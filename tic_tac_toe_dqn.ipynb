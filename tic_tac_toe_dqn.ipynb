{
 "cells": [
  {
   "cell_type": "markdown",
   "metadata": {
    "toc": true
   },
   "source": [
    "<h1>Table of Contents<span class=\"tocSkip\"></span></h1>\n",
    "<div class=\"toc\"><ul class=\"toc-item\"><li><span><a href=\"#Tic-Toc-Toe-environment\" data-toc-modified-id=\"Tic-Toc-Toe-environment-1\">Tic Toc Toe environment</a></span><ul class=\"toc-item\"><li><span><a href=\"#Initialization-and-attributes\" data-toc-modified-id=\"Initialization-and-attributes-1.1\">Initialization and attributes</a></span></li><li><span><a href=\"#Taking-actions\" data-toc-modified-id=\"Taking-actions-1.2\">Taking actions</a></span></li><li><span><a href=\"#Reward\" data-toc-modified-id=\"Reward-1.3\">Reward</a></span></li></ul></li><li><span><a href=\"#Optimal-policy-for-Tic-Toc-Toe-environment\" data-toc-modified-id=\"Optimal-policy-for-Tic-Toc-Toe-environment-2\">Optimal policy for Tic Toc Toe environment</a></span><ul class=\"toc-item\"><li><span><a href=\"#An-example-of-optimal-player-playing-against-random-player\" data-toc-modified-id=\"An-example-of-optimal-player-playing-against-random-player-2.1\">An example of optimal player playing against random player</a></span></li><li><span><a href=\"#An-example-of-optimal-player-playing-against-optimal-player\" data-toc-modified-id=\"An-example-of-optimal-player-playing-against-optimal-player-2.2\">An example of optimal player playing against optimal player</a></span></li></ul></li><li><span><a href=\"#Performance-measures\" data-toc-modified-id=\"Performance-measures-3\">Performance measures</a></span></li><li><span><a href=\"#2-TicTacToe-with-DQN\" data-toc-modified-id=\"2-TicTacToe-with-DQN-4\">2 TicTacToe with DQN</a></span><ul class=\"toc-item\"><li><span><a href=\"#2.0-Implementation-details\" data-toc-modified-id=\"2.0-Implementation-details-4.1\">2.0 Implementation details</a></span><ul class=\"toc-item\"><li><span><a href=\"#Setup\" data-toc-modified-id=\"Setup-4.1.1\">Setup</a></span></li><li><span><a href=\"#Utility\" data-toc-modified-id=\"Utility-4.1.2\">Utility</a></span></li><li><span><a href=\"#Replay-memory\" data-toc-modified-id=\"Replay-memory-4.1.3\">Replay memory</a></span></li><li><span><a href=\"#Illegal-moves-reward-(TODO)\" data-toc-modified-id=\"Illegal-moves-reward-(TODO)-4.1.4\">Illegal moves reward (TODO)</a></span></li><li><span><a href=\"#DQN-algorithm\" data-toc-modified-id=\"DQN-algorithm-4.1.5\">DQN algorithm</a></span></li></ul></li><li><span><a href=\"#2.1-Learning-from-experts\" data-toc-modified-id=\"2.1-Learning-from-experts-4.2\">2.1 Learning from experts</a></span><ul class=\"toc-item\"><li><span><a href=\"#Q11-Standard-training-with-fixed--$\\epsilon$\" data-toc-modified-id=\"Q11-Standard-training-with-fixed--$\\epsilon$-4.2.1\">Q11 Standard training with fixed  $\\epsilon$</a></span></li><li><span><a href=\"#Q12-Training-without-the-replay-buffer-and-with-a-batch-size-of-1\" data-toc-modified-id=\"Q12-Training-without-the-replay-buffer-and-with-a-batch-size-of-1-4.2.2\">Q12 Training without the replay buffer and with a batch size of 1</a></span></li><li><span><a href=\"#Q13-Training-with-decreasing-$\\epsilon$-given-different-values-of-$n*$\" data-toc-modified-id=\"Q13-Training-with-decreasing-$\\epsilon$-given-different-values-of-$n*$-4.2.3\">Q13 Training with decreasing $\\epsilon$ given different values of $n*$</a></span></li><li><span><a href=\"#Q14-Visualizing-$M_{opt}$-and-$M_{rand}$-over-time\" data-toc-modified-id=\"Q14-Visualizing-$M_{opt}$-and-$M_{rand}$-over-time-4.2.4\">Q14 Visualizing $M_{opt}$ and $M_{rand}$ over time</a></span></li><li><span><a href=\"#Q15-Reporting-best-results\" data-toc-modified-id=\"Q15-Reporting-best-results-4.2.5\">Q15 Reporting best results</a></span></li></ul></li><li><span><a href=\"#2.2-Learning-by-self-practice\" data-toc-modified-id=\"2.2-Learning-by-self-practice-4.3\">2.2 Learning by self-practice</a></span><ul class=\"toc-item\"><li><span><a href=\"#Q16-Training-with-different-fixed--$\\epsilon$\" data-toc-modified-id=\"Q16-Training-with-different-fixed--$\\epsilon$-4.3.1\">Q16 Training with different fixed  $\\epsilon$</a></span></li><li><span><a href=\"#Q17-Training-with-decreasing--$\\epsilon$-given-different-values-of-$n*$\" data-toc-modified-id=\"Q17-Training-with-decreasing--$\\epsilon$-given-different-values-of-$n*$-4.3.2\">Q17 Training with decreasing  $\\epsilon$ given different values of $n*$</a></span></li><li><span><a href=\"#Q18-Reporting-best-results\" data-toc-modified-id=\"Q18-Reporting-best-results-4.3.3\">Q18 Reporting best results</a></span></li><li><span><a href=\"#Q19-Visualizing-Q-values\" data-toc-modified-id=\"Q19-Visualizing-Q-values-4.3.4\">Q19 Visualizing Q values</a></span></li></ul></li></ul></li></ul></div>"
   ]
  },
  {
   "cell_type": "code",
   "execution_count": 1,
   "metadata": {},
   "outputs": [],
   "source": [
    "# std\n",
    "from typing import List, Dict, Tuple\n",
    "\n",
    "# imported\n",
    "import numpy as np\n",
    "import matplotlib.pyplot as plt\n",
    "from tqdm import tqdm\n",
    "\n",
    "# customized\n",
    "from tic_env import TictactoeEnv, OptimalPlayer"
   ]
  },
  {
   "cell_type": "markdown",
   "metadata": {},
   "source": [
    "# Tic Toc Toe environment"
   ]
  },
  {
   "cell_type": "markdown",
   "metadata": {},
   "source": [
    "Our 1st game is the famous Tic Toc Toe. You can read about the game and its rules here: https://en.wikipedia.org/wiki/Tic-tac-toe\n",
    "\n",
    "We implemented the game as an environment in the style of games in the [Python GYM library](https://gym.openai.com/). The commented source code is available in the file \"tic_env.py\". Here, we give a brief introduction to the environment and how it can be used."
   ]
  },
  {
   "cell_type": "markdown",
   "metadata": {},
   "source": [
    "## Initialization and attributes"
   ]
  },
  {
   "cell_type": "markdown",
   "metadata": {},
   "source": [
    "You can initialize the environment / game as following:"
   ]
  },
  {
   "cell_type": "code",
   "execution_count": 2,
   "metadata": {},
   "outputs": [],
   "source": [
    "env = TictactoeEnv()"
   ]
  },
  {
   "cell_type": "markdown",
   "metadata": {},
   "source": [
    "Which then has the following attributes with the corresponding initial values:"
   ]
  },
  {
   "cell_type": "code",
   "execution_count": 3,
   "metadata": {
    "scrolled": true
   },
   "outputs": [
    {
     "data": {
      "text/plain": [
       "{'grid': array([[0., 0., 0.],\n",
       "        [0., 0., 0.],\n",
       "        [0., 0., 0.]]),\n",
       " 'end': False,\n",
       " 'winner': None,\n",
       " 'player2value': {'X': 1, 'O': -1},\n",
       " 'num_step': 0,\n",
       " 'current_player': 'X'}"
      ]
     },
     "execution_count": 3,
     "metadata": {},
     "output_type": "execute_result"
    }
   ],
   "source": [
    "env.__dict__"
   ]
  },
  {
   "cell_type": "markdown",
   "metadata": {},
   "source": [
    "The game is played by two players: player 'X' and player 'O'. The attribute 'current_player' shows whose turn it is. We assume that player 'X' always plays first.\n",
    "\n",
    "The attribute 'grid' is a 3x3 numpy array and presents the board in the real game and the state $s_t$ in the reinfocement learning language. Each elements can take a value in {0, 1, -1}:\n",
    "     0 : place unmarked\n",
    "     1 : place marked with X \n",
    "    -1 : place marked with O \n",
    "        \n",
    "The attribute 'end' shows if the game is over or not, and the attribute 'winner' shows the winner of the game: either \"X\", \"O\", or None.  "
   ]
  },
  {
   "cell_type": "markdown",
   "metadata": {},
   "source": [
    "You can use function 'render' to visualize the current position of the board:"
   ]
  },
  {
   "cell_type": "code",
   "execution_count": 4,
   "metadata": {},
   "outputs": [
    {
     "name": "stdout",
     "output_type": "stream",
     "text": [
      "|- - -|\n",
      "|- - -|\n",
      "|- - -|\n",
      "\n"
     ]
    }
   ],
   "source": [
    "env.render()"
   ]
  },
  {
   "cell_type": "markdown",
   "metadata": {},
   "source": [
    "## Taking actions"
   ]
  },
  {
   "cell_type": "markdown",
   "metadata": {},
   "source": [
    "The game environment will recieve action from two players in turn and update the grid. At each time, one player can take the action $a_t$, where $a_t$ can either be an integer between 0 to 8 or a touple, corresponding to the 9 possible.\n",
    "\n",
    "Function 'step' is used to recieve the action of the player, update the grid:"
   ]
  },
  {
   "cell_type": "code",
   "execution_count": 5,
   "metadata": {},
   "outputs": [
    {
     "data": {
      "text/plain": [
       "(array([[0., 0., 1.],\n",
       "        [0., 0., 0.],\n",
       "        [0., 0., 0.]]),\n",
       " False,\n",
       " None)"
      ]
     },
     "execution_count": 5,
     "metadata": {},
     "output_type": "execute_result"
    }
   ],
   "source": [
    "env.step(2)"
   ]
  },
  {
   "cell_type": "code",
   "execution_count": 6,
   "metadata": {},
   "outputs": [
    {
     "name": "stdout",
     "output_type": "stream",
     "text": [
      "|- - X|\n",
      "|- - -|\n",
      "|- - -|\n",
      "\n"
     ]
    }
   ],
   "source": [
    "env.render()"
   ]
  },
  {
   "cell_type": "code",
   "execution_count": 7,
   "metadata": {
    "scrolled": false
   },
   "outputs": [
    {
     "data": {
      "text/plain": [
       "{'grid': array([[0., 0., 1.],\n",
       "        [0., 0., 0.],\n",
       "        [0., 0., 0.]]),\n",
       " 'end': False,\n",
       " 'winner': None,\n",
       " 'player2value': {'X': 1, 'O': -1},\n",
       " 'num_step': 1,\n",
       " 'current_player': 'O'}"
      ]
     },
     "execution_count": 7,
     "metadata": {},
     "output_type": "execute_result"
    }
   ],
   "source": [
    "env.__dict__"
   ]
  },
  {
   "cell_type": "code",
   "execution_count": 8,
   "metadata": {
    "scrolled": true
   },
   "outputs": [
    {
     "data": {
      "text/plain": [
       "(array([[ 0.,  0.,  1.],\n",
       "        [ 0., -1.,  0.],\n",
       "        [ 0.,  0.,  0.]]),\n",
       " False,\n",
       " None)"
      ]
     },
     "execution_count": 8,
     "metadata": {},
     "output_type": "execute_result"
    }
   ],
   "source": [
    "env.step((1,1))"
   ]
  },
  {
   "cell_type": "code",
   "execution_count": 9,
   "metadata": {
    "scrolled": true
   },
   "outputs": [
    {
     "name": "stdout",
     "output_type": "stream",
     "text": [
      "|- - X|\n",
      "|- O -|\n",
      "|- - -|\n",
      "\n"
     ]
    }
   ],
   "source": [
    "env.render()"
   ]
  },
  {
   "cell_type": "code",
   "execution_count": 10,
   "metadata": {},
   "outputs": [
    {
     "data": {
      "text/plain": [
       "{'grid': array([[ 0.,  0.,  1.],\n",
       "        [ 0., -1.,  0.],\n",
       "        [ 0.,  0.,  0.]]),\n",
       " 'end': False,\n",
       " 'winner': None,\n",
       " 'player2value': {'X': 1, 'O': -1},\n",
       " 'num_step': 2,\n",
       " 'current_player': 'X'}"
      ]
     },
     "execution_count": 10,
     "metadata": {},
     "output_type": "execute_result"
    }
   ],
   "source": [
    "env.__dict__"
   ]
  },
  {
   "cell_type": "markdown",
   "metadata": {},
   "source": [
    "But not all actions are available at each time: One cannot choose a place which has been taken before. There is an error if an unavailable action is taken:"
   ]
  },
  {
   "cell_type": "code",
   "execution_count": 11,
   "metadata": {
    "scrolled": true
   },
   "outputs": [],
   "source": [
    "# env.step((0,2))"
   ]
  },
  {
   "cell_type": "markdown",
   "metadata": {},
   "source": [
    "## Reward"
   ]
  },
  {
   "cell_type": "markdown",
   "metadata": {},
   "source": [
    "Reward is always 0 until the end of the game. When the game is over, the reward is 1 if you win the game, -1 if you lose, and 0 besides. Function 'observe' can be used after each step to recieve the new state $s_t$, whether the game is over, and the winner, and function 'reward' to get the reward value $r_t$:"
   ]
  },
  {
   "cell_type": "code",
   "execution_count": 12,
   "metadata": {},
   "outputs": [
    {
     "data": {
      "text/plain": [
       "(array([[ 0.,  0.,  1.],\n",
       "        [ 0., -1.,  0.],\n",
       "        [ 0.,  0.,  0.]]),\n",
       " False,\n",
       " None)"
      ]
     },
     "execution_count": 12,
     "metadata": {},
     "output_type": "execute_result"
    }
   ],
   "source": [
    "env.observe()"
   ]
  },
  {
   "cell_type": "code",
   "execution_count": 13,
   "metadata": {},
   "outputs": [
    {
     "data": {
      "text/plain": [
       "0"
      ]
     },
     "execution_count": 13,
     "metadata": {},
     "output_type": "execute_result"
    }
   ],
   "source": [
    "env.reward(player='X')"
   ]
  },
  {
   "cell_type": "code",
   "execution_count": 14,
   "metadata": {},
   "outputs": [
    {
     "data": {
      "text/plain": [
       "0"
      ]
     },
     "execution_count": 14,
     "metadata": {},
     "output_type": "execute_result"
    }
   ],
   "source": [
    "env.reward(player='O')"
   ]
  },
  {
   "cell_type": "markdown",
   "metadata": {},
   "source": [
    "An example of finishing the game:"
   ]
  },
  {
   "cell_type": "code",
   "execution_count": 15,
   "metadata": {},
   "outputs": [
    {
     "data": {
      "text/plain": [
       "(array([[ 1.,  1.,  1.],\n",
       "        [-1., -1.,  0.],\n",
       "        [ 0.,  0.,  0.]]),\n",
       " True,\n",
       " 'X')"
      ]
     },
     "execution_count": 15,
     "metadata": {},
     "output_type": "execute_result"
    }
   ],
   "source": [
    "env.step(0)\n",
    "env.step(3)\n",
    "env.step(1)"
   ]
  },
  {
   "cell_type": "code",
   "execution_count": 16,
   "metadata": {},
   "outputs": [
    {
     "name": "stdout",
     "output_type": "stream",
     "text": [
      "|X X X|\n",
      "|O O -|\n",
      "|- - -|\n",
      "\n"
     ]
    }
   ],
   "source": [
    "env.render()"
   ]
  },
  {
   "cell_type": "code",
   "execution_count": 17,
   "metadata": {},
   "outputs": [
    {
     "data": {
      "text/plain": [
       "(array([[ 1.,  1.,  1.],\n",
       "        [-1., -1.,  0.],\n",
       "        [ 0.,  0.,  0.]]),\n",
       " True,\n",
       " 'X')"
      ]
     },
     "execution_count": 17,
     "metadata": {},
     "output_type": "execute_result"
    }
   ],
   "source": [
    "env.observe()"
   ]
  },
  {
   "cell_type": "code",
   "execution_count": 18,
   "metadata": {},
   "outputs": [
    {
     "data": {
      "text/plain": [
       "1"
      ]
     },
     "execution_count": 18,
     "metadata": {},
     "output_type": "execute_result"
    }
   ],
   "source": [
    "\n",
    "env.reward(player='X')"
   ]
  },
  {
   "cell_type": "code",
   "execution_count": 19,
   "metadata": {},
   "outputs": [
    {
     "data": {
      "text/plain": [
       "-1"
      ]
     },
     "execution_count": 19,
     "metadata": {},
     "output_type": "execute_result"
    }
   ],
   "source": [
    "env.reward(player='O')"
   ]
  },
  {
   "cell_type": "markdown",
   "metadata": {},
   "source": [
    "# Optimal policy for Tic Toc Toe environment"
   ]
  },
  {
   "cell_type": "markdown",
   "metadata": {},
   "source": [
    "Fortunately, we know the exact optimal policy for Tic Toc Toe. We have implemented and $\\epsilon$-greedy version of optimal polciy which you can use for the project."
   ]
  },
  {
   "cell_type": "code",
   "execution_count": 20,
   "metadata": {},
   "outputs": [],
   "source": [
    "env.reset();"
   ]
  },
  {
   "cell_type": "code",
   "execution_count": 21,
   "metadata": {},
   "outputs": [],
   "source": [
    "opt_player = OptimalPlayer(epsilon = 0., player = 'X')"
   ]
  },
  {
   "cell_type": "code",
   "execution_count": 22,
   "metadata": {},
   "outputs": [
    {
     "data": {
      "text/plain": [
       "(0, 2)"
      ]
     },
     "execution_count": 22,
     "metadata": {},
     "output_type": "execute_result"
    }
   ],
   "source": [
    "opt_player.act(env.grid)"
   ]
  },
  {
   "cell_type": "code",
   "execution_count": 23,
   "metadata": {
    "scrolled": true
   },
   "outputs": [
    {
     "data": {
      "text/plain": [
       "'X'"
      ]
     },
     "execution_count": 23,
     "metadata": {},
     "output_type": "execute_result"
    }
   ],
   "source": [
    "opt_player.player"
   ]
  },
  {
   "cell_type": "markdown",
   "metadata": {},
   "source": [
    "## An example of optimal player playing against random player"
   ]
  },
  {
   "cell_type": "code",
   "execution_count": 24,
   "metadata": {},
   "outputs": [
    {
     "name": "stdout",
     "output_type": "stream",
     "text": [
      "-------------------------------------------\n",
      "Game end, winner is player O\n",
      "Optimal player = O\n",
      "Random player = X\n",
      "|X O X|\n",
      "|X O O|\n",
      "|- O X|\n",
      "\n",
      "-------------------------------------------\n",
      "Game end, winner is player O\n",
      "Optimal player = O\n",
      "Random player = X\n",
      "|X - X|\n",
      "|X O X|\n",
      "|O O O|\n",
      "\n",
      "-------------------------------------------\n",
      "Game end, winner is player X\n",
      "Optimal player = X\n",
      "Random player = O\n",
      "|X - -|\n",
      "|- X O|\n",
      "|O - X|\n",
      "\n",
      "-------------------------------------------\n",
      "Game end, winner is player X\n",
      "Optimal player = X\n",
      "Random player = O\n",
      "|X - -|\n",
      "|O X -|\n",
      "|- O X|\n",
      "\n",
      "-------------------------------------------\n",
      "Game end, winner is player O\n",
      "Optimal player = O\n",
      "Random player = X\n",
      "|- X O|\n",
      "|X O -|\n",
      "|O X -|\n",
      "\n"
     ]
    }
   ],
   "source": [
    "Turns = np.array(['X','O'])\n",
    "for i in range(5):\n",
    "    env.reset()\n",
    "    grid, _, __ = env.observe()\n",
    "    Turns = Turns[np.random.permutation(2)]\n",
    "    player_opt = OptimalPlayer(epsilon=0., player=Turns[0])\n",
    "    player_rnd = OptimalPlayer(epsilon=1., player=Turns[1])\n",
    "    for j in range(9):\n",
    "        if env.current_player == player_opt.player:\n",
    "            move = player_opt.act(grid)\n",
    "        else:\n",
    "            move = player_rnd.act(grid)\n",
    "\n",
    "        grid, end, winner = env.step(move, print_grid=False)\n",
    "\n",
    "        if end:\n",
    "            print('-------------------------------------------')\n",
    "            print('Game end, winner is player ' + str(winner))\n",
    "            print('Optimal player = ' +  Turns[0])\n",
    "            print('Random player = ' +  Turns[1])\n",
    "            env.render()\n",
    "            env.reset()\n",
    "            break\n"
   ]
  },
  {
   "cell_type": "markdown",
   "metadata": {},
   "source": [
    "## An example of optimal player playing against optimal player"
   ]
  },
  {
   "cell_type": "code",
   "execution_count": 25,
   "metadata": {},
   "outputs": [
    {
     "name": "stdout",
     "output_type": "stream",
     "text": [
      "-------------------------------------------\n",
      "Game end, winner is player None\n",
      "Optimal player 1 = X\n",
      "Optimal player 2 = O\n",
      "|O X O|\n",
      "|X X O|\n",
      "|X O X|\n",
      "\n",
      "-------------------------------------------\n",
      "Game end, winner is player None\n",
      "Optimal player 1 = O\n",
      "Optimal player 2 = X\n",
      "|X X O|\n",
      "|O O X|\n",
      "|X O X|\n",
      "\n",
      "-------------------------------------------\n",
      "Game end, winner is player None\n",
      "Optimal player 1 = X\n",
      "Optimal player 2 = O\n",
      "|O X X|\n",
      "|X O O|\n",
      "|X O X|\n",
      "\n",
      "-------------------------------------------\n",
      "Game end, winner is player None\n",
      "Optimal player 1 = X\n",
      "Optimal player 2 = O\n",
      "|X O X|\n",
      "|O O X|\n",
      "|X X O|\n",
      "\n",
      "-------------------------------------------\n",
      "Game end, winner is player None\n",
      "Optimal player 1 = O\n",
      "Optimal player 2 = X\n",
      "|X O X|\n",
      "|O O X|\n",
      "|X X O|\n",
      "\n"
     ]
    }
   ],
   "source": [
    "Turns = np.array(['X','O'])\n",
    "for i in range(5):\n",
    "    env.reset()\n",
    "    grid, _, __ = env.observe()\n",
    "    Turns = Turns[np.random.permutation(2)]\n",
    "    player_opt_1 = OptimalPlayer(epsilon=0., player=Turns[0])\n",
    "    player_opt_2 = OptimalPlayer(epsilon=0., player=Turns[1])\n",
    "    for j in range(9):\n",
    "        if env.current_player == player_opt.player:\n",
    "            move = player_opt_1.act(grid)\n",
    "        else:\n",
    "            move = player_opt_2.act(grid)\n",
    "\n",
    "        grid, end, winner = env.step(move, print_grid=False)\n",
    "\n",
    "        if end:\n",
    "            print('-------------------------------------------')\n",
    "            print('Game end, winner is player ' + str(winner))\n",
    "            print('Optimal player 1 = ' +  Turns[0])\n",
    "            print('Optimal player 2 = ' +  Turns[1])\n",
    "            env.render()\n",
    "            env.reset()\n",
    "            break\n"
   ]
  },
  {
   "cell_type": "markdown",
   "metadata": {},
   "source": [
    "# Performance measures"
   ]
  },
  {
   "cell_type": "code",
   "execution_count": 26,
   "metadata": {},
   "outputs": [],
   "source": [
    "def run_episode(agent1, agent2, env, switch: bool):\n",
    "    grid, end, __  = env.observe()\n",
    "    if switch:\n",
    "        agent1.player, agent2.player = 'O', 'X'\n",
    "    else:\n",
    "        agent1.player, agent2.player = 'X', 'O'\n",
    "    while end == False:\n",
    "        if env.current_player == agent1.player:\n",
    "            move = agent1.act(grid) \n",
    "            grid, end, winner = env.step(move, print_grid=False) \n",
    "        else:\n",
    "            move = agent2.act(grid)\n",
    "            grid, end, winner = env.step(move, print_grid=False) \n",
    "    return winner, agent1, agent2"
   ]
  },
  {
   "cell_type": "code",
   "execution_count": 27,
   "metadata": {},
   "outputs": [],
   "source": [
    "def eval(agent1, agent2, n_episode: int = 500) -> Dict:\n",
    "    env = TictactoeEnv()\n",
    "    win, los, draw = 0, 0, 0\n",
    "    res = []\n",
    "        \n",
    "    for episode in tqdm(range(n_episode)):\n",
    "        env.reset()\n",
    "        switch = i % 2\n",
    "        winner, agent1, agent2 = run_episode(agent1, agent2, env, switch)\n",
    "\n",
    "        if winner == agent1.player:\n",
    "            win += 1\n",
    "            res.append(1)\n",
    "        elif winner == agent2.player:\n",
    "            los += 1\n",
    "            res.append(-1)\n",
    "        else:\n",
    "            draw += 1\n",
    "            res.append(0)\n",
    "    \n",
    "    res_info = {\n",
    "        'win': win,\n",
    "        'los': los,\n",
    "        'draw': draw,\n",
    "        'res': res,\n",
    "        'metric': (win-los)/n_episode, \n",
    "        'draw_rate': draw/n_episode\n",
    "    }\n",
    "           \n",
    "    return res_info"
   ]
  },
  {
   "cell_type": "code",
   "execution_count": 28,
   "metadata": {},
   "outputs": [
    {
     "name": "stderr",
     "output_type": "stream",
     "text": [
      "100%|██████████| 500/500 [00:02<00:00, 217.60it/s]\n"
     ]
    },
    {
     "name": "stdout",
     "output_type": "stream",
     "text": [
      "# Eval with Opt(0.0)\n",
      "Mopt = 0.0, Draw rate = 1.0\n"
     ]
    },
    {
     "name": "stderr",
     "output_type": "stream",
     "text": [
      "100%|██████████| 500/500 [00:01<00:00, 444.12it/s]"
     ]
    },
    {
     "name": "stdout",
     "output_type": "stream",
     "text": [
      "# Eval with Opt(1.0)\n",
      "Mrand = 0.964, Draw rate = 0.036\n"
     ]
    },
    {
     "name": "stderr",
     "output_type": "stream",
     "text": [
      "\n"
     ]
    }
   ],
   "source": [
    "metric_dict = {'opt': 0.0, 'rand': 1.0}\n",
    "for (mode, epsilon) in metric_dict.items():\n",
    "    player_opt = OptimalPlayer(epsilon=0.)\n",
    "    player_baseline = OptimalPlayer(epsilon=epsilon)\n",
    "    res_info = eval(player_opt, player_baseline)\n",
    "    \n",
    "    print(\"# Eval with Opt({})\".format(epsilon))\n",
    "    print('M{} = {}, Draw rate = {}'.format(mode, res_info['metric'], res_info['draw_rate']))"
   ]
  },
  {
   "cell_type": "code",
   "execution_count": 29,
   "metadata": {},
   "outputs": [
    {
     "data": {
      "image/png": "[encoded data removed]",
      "text/plain": [
       "<Figure size 432x360 with 1 Axes>"
      ]
     },
     "metadata": {
      "needs_background": "light"
     },
     "output_type": "display_data"
    }
   ],
   "source": [
    "def res_plot(epi_res: List, window: int = 250) -> None:\n",
    "    results = np.mean(np.array(epi_res).reshape(-1,window), axis=1)\n",
    "    fig, axes = plt.subplots(figsize=(6, 5))\n",
    "    axes.plot(results)\n",
    "    axes.set_title('Result with avg. window = {} (Totol = {})'.format(window, len(epi_res)))\n",
    "    \n",
    "epi_res = res_info['res']\n",
    "res_plot(epi_res, window=5)"
   ]
  },
  {
   "cell_type": "markdown",
   "metadata": {},
   "source": [
    "# 2 TicTacToe with DQN"
   ]
  },
  {
   "cell_type": "code",
   "execution_count": 30,
   "metadata": {},
   "outputs": [],
   "source": [
    "# std\n",
    "import io\n",
    "import sys\n",
    "import random\n",
    "import logging\n",
    "from collections import namedtuple, deque\n",
    "\n",
    "# imported\n",
    "import torch\n",
    "import torch.nn as nn\n",
    "import torch.optim as optim\n",
    "import torch.nn.functional as F"
   ]
  },
  {
   "cell_type": "markdown",
   "metadata": {},
   "source": [
    "- a feedforward neural net with three hidden layers consisting of 128, 256, and 128 neurons\n",
    "- input: 9 poition x 2 possible states\n",
    "- output: nine actions"
   ]
  },
  {
   "cell_type": "markdown",
   "metadata": {},
   "source": [
    "## 2.0 Implementation details"
   ]
  },
  {
   "cell_type": "markdown",
   "metadata": {},
   "source": [
    "### Setup"
   ]
  },
  {
   "cell_type": "code",
   "execution_count": 31,
   "metadata": {},
   "outputs": [],
   "source": [
    "BATCH_SIZE = 64\n",
    "BUFFER_SIZE = 10000\n",
    "GAMMA = 0.99 # discount factor\n",
    "TARGET_UPDATE = 500 # update interval\n",
    "START_LR = 5e-4\n",
    "EPS_MAX = 0.8\n",
    "EPS_MIN = 0.1\n",
    "N_STAR = 20000"
   ]
  },
  {
   "cell_type": "markdown",
   "metadata": {},
   "source": [
    "### Utility"
   ]
  },
  {
   "cell_type": "code",
   "execution_count": 58,
   "metadata": {},
   "outputs": [],
   "source": [
    "def grid_to_state(\n",
    "    grid: np.array, \n",
    "    switch: bool = False, \n",
    "    vec: bool = True,\n",
    ") -> np.array:\n",
    "    \"\"\"If not switched, 1 and -1 on the grid means X and O, and vice versa\"\"\"\n",
    "    \n",
    "    state = np.zeros((3, 3, 2))\n",
    "    \n",
    "    if not switch:\n",
    "        state[:, :, 0] = (grid==1).astype(float)\n",
    "        state[:, :, 1] = (grid==-1).astype(float)\n",
    "    else:\n",
    "        state[:, :, 0] = (grid==-1).astype(float)\n",
    "        state[:, :, 1] = (grid==1).astype(float)\n",
    "    \n",
    "    if vec:\n",
    "        state = state.reshape(1,-1)\n",
    "    \n",
    "    return torch.tensor(state, dtype=torch.float)"
   ]
  },
  {
   "cell_type": "code",
   "execution_count": 59,
   "metadata": {},
   "outputs": [
    {
     "name": "stdout",
     "output_type": "stream",
     "text": [
      "[[ 0.  0.  1.]\n",
      " [-1.  0.  1.]\n",
      " [ 0.  0.  0.]]\n"
     ]
    }
   ],
   "source": [
    "grid, _, _ = env.reset()\n",
    "grid, _, _ = env.step(2)\n",
    "grid, _, _ = env.step(3)\n",
    "grid, _, _ = env.step(5)\n",
    "print(grid)\n",
    "test_state1 = grid_to_state(grid, vec=False)\n",
    "# print(test_state1[:,:,0], test_state1[:,:,1])\n",
    "test_state2 = grid_to_state(grid, switch=True, vec=False)\n",
    "# print(test_state2[:,:,0], test_state2[:,:,1])\n",
    "assert np.array_equal(test_state1[:,:,0], test_state2[:,:,1])\n",
    "assert np.array_equal(test_state2[:,:,0], test_state1[:,:,1])"
   ]
  },
  {
   "cell_type": "code",
   "execution_count": 61,
   "metadata": {},
   "outputs": [
    {
     "data": {
      "text/plain": [
       "tensor([[[0., 0.],\n",
       "         [0., 0.],\n",
       "         [0., 1.]],\n",
       "\n",
       "        [[1., 0.],\n",
       "         [0., 0.],\n",
       "         [0., 1.]],\n",
       "\n",
       "        [[0., 0.],\n",
       "         [0., 0.],\n",
       "         [0., 0.]]])"
      ]
     },
     "execution_count": 61,
     "metadata": {},
     "output_type": "execute_result"
    }
   ],
   "source": [
    "test_state2"
   ]
  },
  {
   "cell_type": "markdown",
   "metadata": {},
   "source": [
    "### Replay memory"
   ]
  },
  {
   "cell_type": "markdown",
   "metadata": {},
   "source": [
    "- `Transition`: a single transition in our environment. It essentially maps (state, action) pairs to their (next_state, reward) result, with the state being the board position (showing -, O, or X)\n",
    "- `ReplayMemory`: a cyclic buffer of bounded size that holds the transitions observed recently, which could be sampled for selecting a random batch of transitions for training"
   ]
  },
  {
   "cell_type": "code",
   "execution_count": 34,
   "metadata": {},
   "outputs": [],
   "source": [
    "# ref: https://pytorch.org/tutorials/intermediate/reinforcement_q_learning.html#replay-memory\n",
    "Transition = namedtuple('Transition',\n",
    "                        ('state', 'action', 'next_state', 'reward'))\n",
    "\n",
    "class ReplayMemory(object):\n",
    "\n",
    "    def __init__(self, capacity):\n",
    "        self.memory = deque([],maxlen=capacity)\n",
    "\n",
    "    def push(self, *args):\n",
    "        \"\"\"Save a transition\"\"\"\n",
    "        self.memory.append(Transition(*args))\n",
    "\n",
    "    def sample(self, batch_size):\n",
    "        return random.sample(self.memory, batch_size)\n",
    "\n",
    "    def __len__(self):\n",
    "        return len(self.memory)"
   ]
  },
  {
   "cell_type": "markdown",
   "metadata": {},
   "source": [
    "### Illegal moves reward (TODO)"
   ]
  },
  {
   "cell_type": "code",
   "execution_count": 35,
   "metadata": {},
   "outputs": [],
   "source": [
    "R_UNAV = -1\n",
    "# invalid = env.check_valid(position) == False"
   ]
  },
  {
   "cell_type": "markdown",
   "metadata": {},
   "source": [
    "### DQN algorithm"
   ]
  },
  {
   "cell_type": "markdown",
   "metadata": {},
   "source": [
    "- input state $s_t$ by a 3 × 3 × 2 tensor\n",
    "- 2 hidden layers each with 128 neurons – with ReLu activation functions.\n",
    "The output layer has 9 neurons (for 9 different actions) with linear activation functions\n",
    "- 9 neurons (for 9 different actions) with linear activation functions\n",
    "\n",
    "PS: do not constraint actions to only available actions. However, whenever the agent takes an unavailable action, we end the game and give the agent a negative reward\n",
    "of value $r_{unav}$ = −1."
   ]
  },
  {
   "cell_type": "code",
   "execution_count": 36,
   "metadata": {},
   "outputs": [],
   "source": [
    "class DQN(nn.Module):\n",
    "\n",
    "    def __init__(self, n_inputs: int = 18, n_outputs: int = 9):\n",
    "        super(DQN, self).__init__()\n",
    "        self.fc1 = nn.Linear(n_inputs, 128)\n",
    "        self.fc2 = nn.Linear(128, 128)\n",
    "        self.fc3 = nn.Linear(128, 128)\n",
    "        self.fc4 = nn.Linear(128, n_outputs)\n",
    "\n",
    "    # Called with either one element to determine next action, or a batch\n",
    "    # during optimization.\n",
    "    def forward(self, x):\n",
    "        x = F.relu(self.fc1(x))\n",
    "        x = F.relu(self.fc2(x))\n",
    "        x = F.relu(self.fc3(x))\n",
    "        x = self.fc4(x)\n",
    "        return x\n",
    "    \n",
    "    def act(self, state):\n",
    "        with torch.no_grad():\n",
    "            return self.forward(state).max(1)[1].view(1, 1)"
   ]
  },
  {
   "cell_type": "code",
   "execution_count": 37,
   "metadata": {},
   "outputs": [],
   "source": [
    "def optimize_model(\n",
    "    device: torch.device,\n",
    "    optimizer: optim.Optimizer,\n",
    "    criterion: torch.nn,\n",
    "    policy: nn.Module,\n",
    "    target: nn.Module,\n",
    "    memory: ReplayMemory,\n",
    "    batch_size: int,\n",
    "    gamma: float,\n",
    "):\n",
    "    \"\"\"Model optimization step, borrow from the Torch DQN tutorial.\n",
    "    \n",
    "    Arguments:\n",
    "        device {torch.device} -- Device\n",
    "        optimizer {torch.optim.Optimizer} -- Optimizer\n",
    "        criterion {torch.nn} -- Loss\n",
    "        policy {nn.Module} -- Policy net\n",
    "        target {nn.Module} -- Target net\n",
    "        memory {ReplayMemory} -- Replay memory\n",
    "        batch_size {int} -- Number of observations to use per batch step\n",
    "        gamma {float} -- Reward discount factor\n",
    "    \"\"\"\n",
    "    if len(memory) < batch_size:\n",
    "        return\n",
    "    transitions = memory.sample(batch_size)\n",
    "    # Transpose the batch (see https://stackoverflow.com/a/19343/3343043 for\n",
    "    # detailed explanation). This converts batch-array of Transitions\n",
    "    # to Transition of batch-arrays.\n",
    "    batch = Transition(*zip(*transitions))\n",
    "\n",
    "    # Compute a mask of non-final states and concatenate the batch elements\n",
    "    # (a final state would've been the one after which simulation ended)\n",
    "    non_final_mask = torch.tensor(\n",
    "        tuple(map(lambda s: s is not None, batch.next_state)),\n",
    "        device=device,\n",
    "        dtype=torch.bool,\n",
    "    )\n",
    "    non_final_next_states = torch.cat([s for s in batch.next_state if s is not None])\n",
    "    state_batch = torch.cat(batch.state)\n",
    "    action_batch = torch.cat(batch.action)\n",
    "    reward_batch = torch.cat(batch.reward)\n",
    "\n",
    "    # Compute Q(s_t, a) - the model computes Q(s_t), then we select the\n",
    "    # columns of actions taken. These are the actions which would've been taken\n",
    "    # for each batch state according to policy\n",
    "    state_action_values = policy(state_batch).gather(1, action_batch)\n",
    "\n",
    "    # Compute V(s_{t+1}) for all next states.\n",
    "    # Expected values of actions for non_final_next_states are computed based\n",
    "    # on the \"older\" target_net; selecting their best reward with max(1)[0].\n",
    "    # This is merged based on the mask, such that we'll have either the expected\n",
    "    # state value or 0 in case the state was final.\n",
    "    next_state_values = torch.zeros(batch_size, device=device)\n",
    "    next_state_values[non_final_mask] = target(non_final_next_states).max(1)[0].detach()\n",
    "    # Compute the expected Q values\n",
    "    expected_state_action_values = (next_state_values * gamma) + reward_batch\n",
    "\n",
    "    # Compute Huber loss\n",
    "    loss = criterion(\n",
    "        state_action_values, \n",
    "        expected_state_action_values.unsqueeze(1)\n",
    "    )\n",
    "\n",
    "    # Optimize the model\n",
    "    optimizer.zero_grad()\n",
    "    loss.backward()\n",
    "    for param in policy.parameters():\n",
    "        param.grad.data.clamp_(-1, 1)\n",
    "    optimizer.step()"
   ]
  },
  {
   "cell_type": "code",
   "execution_count": 38,
   "metadata": {},
   "outputs": [],
   "source": [
    "def decreasing_exploration(\n",
    "    n_step: int,\n",
    "    n_star: int = 20000, \n",
    "    e_max: float = 0.8, \n",
    "    e_min: float = 0.1, \n",
    "):\n",
    "    return max(e_min, e_max * (1 - n_step/n_star)) "
   ]
  },
  {
   "cell_type": "code",
   "execution_count": 42,
   "metadata": {},
   "outputs": [],
   "source": [
    "def select_action(\n",
    "    eps: float,\n",
    "    policy_net: nn.Module, \n",
    "    state: np.array, \n",
    "    device: torch.device, \n",
    "    nr_action: int = 9,\n",
    ") -> Tuple[torch.tensor, bool]:\n",
    "\n",
    "    if random.random() > eps:\n",
    "        return policy_net.act(state), False\n",
    "    else:\n",
    "        return (\n",
    "            torch.tensor(\n",
    "                [[random.randrange(9)]],\n",
    "                device=device,\n",
    "            ),\n",
    "            True,\n",
    "        )"
   ]
  },
  {
   "cell_type": "code",
   "execution_count": 102,
   "metadata": {},
   "outputs": [],
   "source": [
    "def fit(\n",
    "    n_episode: int = 20000,\n",
    "    batch_size: int = BATCH_SIZE,\n",
    "    buffer_size: int = BUFFER_SIZE,\n",
    "    gamma: float = GAMMA,\n",
    "    target_update: int = TARGET_UPDATE,\n",
    "    explore: bool = False,\n",
    "    n_star: int = N_STAR, \n",
    "    e_max: float = EPS_MAX, \n",
    "    e_min: float = EPS_MIN, \n",
    "    lr: float = START_LR,\n",
    "    logging_size = 2000,\n",
    "    seed = None,\n",
    ") -> bytes:\n",
    "    device = torch.device(\"cuda\" if torch.cuda.is_available() else \"cpu\")\n",
    "\n",
    "    logging.info(\"Beginning training on: {}\".format(device))\n",
    "    \n",
    "    # Network\n",
    "    policy = DQN(n_inputs = 18, n_outputs = 9).to(device)\n",
    "    target = DQN(n_inputs = 18, n_outputs = 9).to(device)\n",
    "    target.load_state_dict(policy.state_dict())\n",
    "    target.eval()\n",
    "\n",
    "    # Adam optimizer\n",
    "    optimizer = optim.Adam(policy.parameters(), lr=lr)\n",
    "    \n",
    "    # TODO: scheduler?\n",
    "\n",
    "    # Huber loss (delte=1 in SmoothL1Loss)\n",
    "    criterion = nn.SmoothL1Loss()\n",
    "\n",
    "    # Memory buffer\n",
    "    memory = ReplayMemory(BUFFER_SIZE)\n",
    "\n",
    "    env = TictactoeEnv()\n",
    "    # state = torch.tensor([], dtype=torch.float).to(device)\n",
    "    summary = {\n",
    "        \"total\": 0,\n",
    "        \"ties\": 0,\n",
    "        \"illegals\": 0,\n",
    "        \"wins\": 0,\n",
    "        \"loss\": 0,\n",
    "        \"win_rate\": 0.0,\n",
    "    }\n",
    "    summaries = []\n",
    "    \n",
    "    # Expert\n",
    "    expert = OptimalPlayer(epsilon=.5)\n",
    "\n",
    "    for episode in tqdm(range(n_episode)):\n",
    "        grid, end, _ = env.reset()\n",
    "        \n",
    "        if explore:\n",
    "            eps = decreasing_exploration(episode, n_star, e_max, e_min)\n",
    "        else:\n",
    "            eps = e_max\n",
    "        \n",
    "        switch = episode % 2\n",
    "        if switch:\n",
    "            player1, player2 = 'O', 'X'\n",
    "        else:\n",
    "            player1, player2 = 'X', 'O'\n",
    "        expert.player = player2\n",
    "        \n",
    "        # Take first step by expert\n",
    "        if env.num_step == 0 and switch:\n",
    "            move = expert.act(grid)\n",
    "            grid, end, winner = env.step(move, print_grid=False) \n",
    "            \n",
    "        while not end:\n",
    "            # Select and perform an action from DQN\n",
    "            state = grid_to_state(grid, switch=switch, vec=True).to(device)\n",
    "            action, _ = select_action(eps, policy, state, device)\n",
    "            if env.check_valid(action.item()):\n",
    "                grid, end, winner = env.step(action.item(), print_grid=False)\n",
    "                reward = env.reward(player=player1)\n",
    "            else:\n",
    "                reward = R_UNAV # -1\n",
    "                end = True\n",
    "                summary[\"illegals\"] += 1\n",
    "                winner = player2\n",
    "                # print(episode, \"Illegal moves\")\n",
    "                \n",
    "            if not end:\n",
    "                move = expert.act(grid)\n",
    "                grid, end, winner = env.step(move, print_grid=False) \n",
    "                # Observe new state\n",
    "                next_state = grid_to_state(grid, switch=switch, vec=True).to(device)\n",
    "            else:\n",
    "                next_state = None\n",
    "                \n",
    "            memory.push(state, action, next_state, torch.tensor([reward], device=device))\n",
    "\n",
    "            optimize_model(\n",
    "                device=device,\n",
    "                optimizer=optimizer,\n",
    "                criterion = criterion,\n",
    "                policy=policy,\n",
    "                target=target,\n",
    "                memory=memory,\n",
    "                batch_size=batch_size,\n",
    "                gamma=gamma,\n",
    "            )\n",
    "            \n",
    "        # update summary\n",
    "        summary['total'] = episode + 1\n",
    "        if winner == None:\n",
    "            summary['ties'] += 1\n",
    "        elif winner == player1:\n",
    "            summary['wins'] += 1\n",
    "        else:\n",
    "            summary['loss'] += 1\n",
    "        summary['win_rate'] = summary['wins'] / summary['total']\n",
    "        \n",
    "        if episode % target_update == 0:\n",
    "            target.load_state_dict(policy.state_dict())\n",
    "        if episode % logging_size == 0:\n",
    "            print(summary)\n",
    "#             if summaries != []:\n",
    "#                 old_summary = summaries[-1]\n",
    "#                 delta_summary = {k: summary[k] - old_summary[k] for k in old_summary}\n",
    "#                 logging.info(\"{} : {}\".format(episode, delta_summary))\n",
    "                \n",
    "#             summaries.append(summary)\n",
    "\n",
    "    logging.info(\"Complete\")\n",
    "\n",
    "#     res = io.BytesIO()\n",
    "#     torch.save(policy.state_dict(), res)\n",
    "\n",
    "#     return res.getbuffer()"
   ]
  },
  {
   "cell_type": "code",
   "execution_count": 103,
   "metadata": {
    "scrolled": false
   },
   "outputs": [
    {
     "name": "stderr",
     "output_type": "stream",
     "text": [
      "INFO:root:Beginning training on: cuda\n",
      "  0%|          | 29/20000 [00:00<01:12, 277.20it/s]"
     ]
    },
    {
     "name": "stdout",
     "output_type": "stream",
     "text": [
      "{'total': 1, 'ties': 0, 'illegals': 1, 'wins': 0, 'loss': 1, 'win_rate': 0.0}\n"
     ]
    },
    {
     "name": "stderr",
     "output_type": "stream",
     "text": [
      " 10%|█         | 2014/20000 [00:26<03:58, 75.52it/s]"
     ]
    },
    {
     "name": "stdout",
     "output_type": "stream",
     "text": [
      "{'total': 2001, 'ties': 52, 'illegals': 467, 'wins': 562, 'loss': 1387, 'win_rate': 0.28085957021489255}\n"
     ]
    },
    {
     "name": "stderr",
     "output_type": "stream",
     "text": [
      " 20%|██        | 4015/20000 [00:52<03:37, 73.51it/s]"
     ]
    },
    {
     "name": "stdout",
     "output_type": "stream",
     "text": [
      "{'total': 4001, 'ties': 103, 'illegals': 862, 'wins': 1201, 'loss': 2697, 'win_rate': 0.30017495626093477}\n"
     ]
    },
    {
     "name": "stderr",
     "output_type": "stream",
     "text": [
      " 30%|███       | 6011/20000 [01:19<03:10, 73.54it/s]"
     ]
    },
    {
     "name": "stdout",
     "output_type": "stream",
     "text": [
      "{'total': 6001, 'ties': 138, 'illegals': 1268, 'wins': 1759, 'loss': 4104, 'win_rate': 0.29311781369771706}\n"
     ]
    },
    {
     "name": "stderr",
     "output_type": "stream",
     "text": [
      " 40%|████      | 8015/20000 [01:47<02:43, 73.09it/s]"
     ]
    },
    {
     "name": "stdout",
     "output_type": "stream",
     "text": [
      "{'total': 8001, 'ties': 158, 'illegals': 1640, 'wins': 2270, 'loss': 5573, 'win_rate': 0.2837145356830396}\n"
     ]
    },
    {
     "name": "stderr",
     "output_type": "stream",
     "text": [
      " 50%|█████     | 10007/20000 [02:15<02:17, 72.49it/s]"
     ]
    },
    {
     "name": "stdout",
     "output_type": "stream",
     "text": [
      "{'total': 10001, 'ties': 186, 'illegals': 2055, 'wins': 2700, 'loss': 7115, 'win_rate': 0.26997300269973}\n"
     ]
    },
    {
     "name": "stderr",
     "output_type": "stream",
     "text": [
      " 60%|██████    | 12009/20000 [02:44<01:58, 67.55it/s]"
     ]
    },
    {
     "name": "stdout",
     "output_type": "stream",
     "text": [
      "{'total': 12001, 'ties': 214, 'illegals': 2475, 'wins': 3175, 'loss': 8612, 'win_rate': 0.2645612865594534}\n"
     ]
    },
    {
     "name": "stderr",
     "output_type": "stream",
     "text": [
      " 70%|███████   | 14012/20000 [03:11<01:21, 73.24it/s]"
     ]
    },
    {
     "name": "stdout",
     "output_type": "stream",
     "text": [
      "{'total': 14001, 'ties': 232, 'illegals': 2877, 'wins': 3669, 'loss': 10100, 'win_rate': 0.2620527105206771}\n"
     ]
    },
    {
     "name": "stderr",
     "output_type": "stream",
     "text": [
      " 80%|████████  | 16013/20000 [03:41<00:56, 70.04it/s]"
     ]
    },
    {
     "name": "stdout",
     "output_type": "stream",
     "text": [
      "{'total': 16001, 'ties': 263, 'illegals': 3288, 'wins': 4164, 'loss': 11574, 'win_rate': 0.26023373539153805}\n"
     ]
    },
    {
     "name": "stderr",
     "output_type": "stream",
     "text": [
      " 90%|█████████ | 18012/20000 [04:09<00:27, 71.86it/s]"
     ]
    },
    {
     "name": "stdout",
     "output_type": "stream",
     "text": [
      "{'total': 18001, 'ties': 306, 'illegals': 3678, 'wins': 4674, 'loss': 13021, 'win_rate': 0.25965224154213656}\n"
     ]
    },
    {
     "name": "stderr",
     "output_type": "stream",
     "text": [
      "100%|██████████| 20000/20000 [04:36<00:00, 72.35it/s]\n",
      "INFO:root:Complete\n"
     ]
    }
   ],
   "source": [
    "logging.basicConfig(level=logging.DEBUG)\n",
    "fit(n_episode=20000, e_max=0.2)\n",
    "# res = fit(n_episode=200)\n",
    "# sys.stdout.write(res)"
   ]
  },
  {
   "cell_type": "code",
   "execution_count": 104,
   "metadata": {},
   "outputs": [],
   "source": [
    "class DQNPlayer():\n",
    "    def __init__(self, device: torch.device, player='X'):\n",
    "        self.player = player # 'X' or 'O'\n",
    "        self.device = device\n",
    "        self.model = DQN(n_inputs=18, n_outputs=9).to(self.device)\n",
    "        \n",
    "    def load_model(self, path: str):\n",
    "        model_state_dict = torch.load(path, map_location=self.device)\n",
    "        self.model.load_state_dict(model_state_dict)\n",
    "        self.model.eval()\n",
    "\n",
    "    def act(self, state: torch.tensor):\n",
    "        with torch.no_grad():\n",
    "            p = F.softmax(self.model.forward(state)).cpu().numpy()\n",
    "            valid_moves = (state.cpu().numpy().reshape(3,3,2).argmax(axis=2).reshape(-1) == 0)\n",
    "            p = valid_moves*p\n",
    "            return p.argmax()"
   ]
  },
  {
   "cell_type": "markdown",
   "metadata": {},
   "source": [
    "## 2.1 Learning from experts"
   ]
  },
  {
   "cell_type": "markdown",
   "metadata": {},
   "source": [
    "### Q11 Standard training with fixed  $\\epsilon$ "
   ]
  },
  {
   "cell_type": "markdown",
   "metadata": {},
   "source": [
    "### Q12 Training without the replay buffer and with a batch size of 1"
   ]
  },
  {
   "cell_type": "markdown",
   "metadata": {},
   "source": [
    "### Q13 Training with decreasing $\\epsilon$ given different values of $n*$"
   ]
  },
  {
   "cell_type": "markdown",
   "metadata": {},
   "source": [
    "### Q14 Visualizing $M_{opt}$ and $M_{rand}$ over time"
   ]
  },
  {
   "cell_type": "markdown",
   "metadata": {},
   "source": [
    "### Q15 Reporting best results"
   ]
  },
  {
   "cell_type": "markdown",
   "metadata": {},
   "source": [
    "## 2.2 Learning by self-practice"
   ]
  },
  {
   "cell_type": "markdown",
   "metadata": {},
   "source": [
    "### Q16 Training with different fixed  $\\epsilon$"
   ]
  },
  {
   "cell_type": "markdown",
   "metadata": {},
   "source": [
    "### Q17 Training with decreasing  $\\epsilon$ given different values of $n*$"
   ]
  },
  {
   "cell_type": "markdown",
   "metadata": {},
   "source": [
    "### Q18 Reporting best results"
   ]
  },
  {
   "cell_type": "markdown",
   "metadata": {},
   "source": [
    "### Q19 Visualizing Q values"
   ]
  },
  {
   "cell_type": "code",
   "execution_count": null,
   "metadata": {},
   "outputs": [],
   "source": []
  }
 ],
 "metadata": {
  "kernelspec": {
   "display_name": "Python 3",
   "language": "python",
   "name": "python3"
  },
  "language_info": {
   "codemirror_mode": {
    "name": "ipython",
    "version": 3
   },
   "file_extension": ".py",
   "mimetype": "text/x-python",
   "name": "python",
   "nbconvert_exporter": "python",
   "pygments_lexer": "ipython3",
   "version": "3.7.13"
  },
  "toc": {
   "base_numbering": 1,
   "nav_menu": {},
   "number_sections": false,
   "sideBar": true,
   "skip_h1_title": false,
   "title_cell": "Table of Contents",
   "title_sidebar": "Contents",
   "toc_cell": true,
   "toc_position": {
    "height": "calc(100% - 180px)",
    "left": "10px",
    "top": "150px",
    "width": "248.792px"
   },
   "toc_section_display": true,
   "toc_window_display": true
  }
 },
 "nbformat": 4,
 "nbformat_minor": 4
}
