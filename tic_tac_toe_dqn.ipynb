{
 "cells": [
  {
   "cell_type": "markdown",
   "metadata": {
    "toc": true
   },
   "source": [
    "<h1>Table of Contents<span class=\"tocSkip\"></span></h1>\n",
    "<div class=\"toc\"><ul class=\"toc-item\"><li><span><a href=\"#Tic-Toc-Toe-environment\" data-toc-modified-id=\"Tic-Toc-Toe-environment-1\">Tic Toc Toe environment</a></span><ul class=\"toc-item\"><li><span><a href=\"#Initialization-and-attributes\" data-toc-modified-id=\"Initialization-and-attributes-1.1\">Initialization and attributes</a></span></li><li><span><a href=\"#Taking-actions\" data-toc-modified-id=\"Taking-actions-1.2\">Taking actions</a></span></li><li><span><a href=\"#Reward\" data-toc-modified-id=\"Reward-1.3\">Reward</a></span></li></ul></li><li><span><a href=\"#Optimal-policy-for-Tic-Toc-Toe-environment\" data-toc-modified-id=\"Optimal-policy-for-Tic-Toc-Toe-environment-2\">Optimal policy for Tic Toc Toe environment</a></span><ul class=\"toc-item\"><li><span><a href=\"#An-example-of-optimal-player-playing-against-random-player\" data-toc-modified-id=\"An-example-of-optimal-player-playing-against-random-player-2.1\">An example of optimal player playing against random player</a></span></li><li><span><a href=\"#An-example-of-optimal-player-playing-against-optimal-player\" data-toc-modified-id=\"An-example-of-optimal-player-playing-against-optimal-player-2.2\">An example of optimal player playing against optimal player</a></span></li></ul></li><li><span><a href=\"#Performance-measures\" data-toc-modified-id=\"Performance-measures-3\">Performance measures</a></span></li><li><span><a href=\"#2-TicTacToe-with-DQN\" data-toc-modified-id=\"2-TicTacToe-with-DQN-4\">2 TicTacToe with DQN</a></span><ul class=\"toc-item\"><li><span><a href=\"#2.0-Implementation-details\" data-toc-modified-id=\"2.0-Implementation-details-4.1\">2.0 Implementation details</a></span><ul class=\"toc-item\"><li><span><a href=\"#Setup\" data-toc-modified-id=\"Setup-4.1.1\">Setup</a></span></li><li><span><a href=\"#Utility\" data-toc-modified-id=\"Utility-4.1.2\">Utility</a></span></li><li><span><a href=\"#Replay-memory\" data-toc-modified-id=\"Replay-memory-4.1.3\">Replay memory</a></span></li><li><span><a href=\"#Illegal-moves-reward-(TODO)\" data-toc-modified-id=\"Illegal-moves-reward-(TODO)-4.1.4\">Illegal moves reward (TODO)</a></span></li><li><span><a href=\"#DQN-algorithm\" data-toc-modified-id=\"DQN-algorithm-4.1.5\">DQN algorithm</a></span></li></ul></li><li><span><a href=\"#2.1-Learning-from-experts\" data-toc-modified-id=\"2.1-Learning-from-experts-4.2\">2.1 Learning from experts</a></span><ul class=\"toc-item\"><li><span><a href=\"#Q11-Standard-training-with-fixed--$\\epsilon$\" data-toc-modified-id=\"Q11-Standard-training-with-fixed--$\\epsilon$-4.2.1\">Q11 Standard training with fixed  $\\epsilon$</a></span></li><li><span><a href=\"#Q12-Training-without-the-replay-buffer-and-with-a-batch-size-of-1\" data-toc-modified-id=\"Q12-Training-without-the-replay-buffer-and-with-a-batch-size-of-1-4.2.2\">Q12 Training without the replay buffer and with a batch size of 1</a></span></li><li><span><a href=\"#Q13-Training-with-decreasing-$\\epsilon$-given-different-values-of-$n*$\" data-toc-modified-id=\"Q13-Training-with-decreasing-$\\epsilon$-given-different-values-of-$n*$-4.2.3\">Q13 Training with decreasing $\\epsilon$ given different values of $n*$</a></span></li><li><span><a href=\"#Q14-Visualizing-$M_{opt}$-and-$M_{rand}$-over-time\" data-toc-modified-id=\"Q14-Visualizing-$M_{opt}$-and-$M_{rand}$-over-time-4.2.4\">Q14 Visualizing $M_{opt}$ and $M_{rand}$ over time</a></span></li><li><span><a href=\"#Q15-Reporting-best-results\" data-toc-modified-id=\"Q15-Reporting-best-results-4.2.5\">Q15 Reporting best results</a></span></li></ul></li><li><span><a href=\"#2.2-Learning-by-self-practice\" data-toc-modified-id=\"2.2-Learning-by-self-practice-4.3\">2.2 Learning by self-practice</a></span><ul class=\"toc-item\"><li><span><a href=\"#Q16-Training-with-different-fixed--$\\epsilon$\" data-toc-modified-id=\"Q16-Training-with-different-fixed--$\\epsilon$-4.3.1\">Q16 Training with different fixed  $\\epsilon$</a></span></li><li><span><a href=\"#Q17-Training-with-decreasing--$\\epsilon$-given-different-values-of-$n*$\" data-toc-modified-id=\"Q17-Training-with-decreasing--$\\epsilon$-given-different-values-of-$n*$-4.3.2\">Q17 Training with decreasing  $\\epsilon$ given different values of $n*$</a></span></li><li><span><a href=\"#Q18-Reporting-best-results\" data-toc-modified-id=\"Q18-Reporting-best-results-4.3.3\">Q18 Reporting best results</a></span></li><li><span><a href=\"#Q19-Visualizing-Q-values\" data-toc-modified-id=\"Q19-Visualizing-Q-values-4.3.4\">Q19 Visualizing Q values</a></span></li></ul></li></ul></li></ul></div>"
   ]
  },
  {
   "cell_type": "code",
   "execution_count": 1,
   "metadata": {},
   "outputs": [],
   "source": [
    "# std\n",
    "from typing import List, Dict, Tuple\n",
    "\n",
    "# imported\n",
    "import numpy as np\n",
    "import matplotlib.pyplot as plt\n",
    "from tqdm import tqdm\n",
    "\n",
    "# customized\n",
    "from tic_env import TictactoeEnv, OptimalPlayer"
   ]
  },
  {
   "cell_type": "markdown",
   "metadata": {},
   "source": [
    "# Tic Toc Toe environment"
   ]
  },
  {
   "cell_type": "markdown",
   "metadata": {},
   "source": [
    "Our 1st game is the famous Tic Toc Toe. You can read about the game and its rules here: https://en.wikipedia.org/wiki/Tic-tac-toe\n",
    "\n",
    "We implemented the game as an environment in the style of games in the [Python GYM library](https://gym.openai.com/). The commented source code is available in the file \"tic_env.py\". Here, we give a brief introduction to the environment and how it can be used."
   ]
  },
  {
   "cell_type": "markdown",
   "metadata": {},
   "source": [
    "## Initialization and attributes"
   ]
  },
  {
   "cell_type": "markdown",
   "metadata": {},
   "source": [
    "You can initialize the environment / game as following:"
   ]
  },
  {
   "cell_type": "code",
   "execution_count": 2,
   "metadata": {},
   "outputs": [],
   "source": [
    "env = TictactoeEnv()"
   ]
  },
  {
   "cell_type": "markdown",
   "metadata": {},
   "source": [
    "Which then has the following attributes with the corresponding initial values:"
   ]
  },
  {
   "cell_type": "code",
   "execution_count": 3,
   "metadata": {
    "scrolled": true
   },
   "outputs": [
    {
     "data": {
      "text/plain": [
       "{'grid': array([[0., 0., 0.],\n",
       "        [0., 0., 0.],\n",
       "        [0., 0., 0.]]),\n",
       " 'end': False,\n",
       " 'winner': None,\n",
       " 'player2value': {'X': 1, 'O': -1},\n",
       " 'num_step': 0,\n",
       " 'current_player': 'X'}"
      ]
     },
     "execution_count": 3,
     "metadata": {},
     "output_type": "execute_result"
    }
   ],
   "source": [
    "env.__dict__"
   ]
  },
  {
   "cell_type": "markdown",
   "metadata": {},
   "source": [
    "The game is played by two players: player 'X' and player 'O'. The attribute 'current_player' shows whose turn it is. We assume that player 'X' always plays first.\n",
    "\n",
    "The attribute 'grid' is a 3x3 numpy array and presents the board in the real game and the state $s_t$ in the reinfocement learning language. Each elements can take a value in {0, 1, -1}:\n",
    "     0 : place unmarked\n",
    "     1 : place marked with X \n",
    "    -1 : place marked with O \n",
    "        \n",
    "The attribute 'end' shows if the game is over or not, and the attribute 'winner' shows the winner of the game: either \"X\", \"O\", or None.  "
   ]
  },
  {
   "cell_type": "markdown",
   "metadata": {},
   "source": [
    "You can use function 'render' to visualize the current position of the board:"
   ]
  },
  {
   "cell_type": "code",
   "execution_count": 4,
   "metadata": {},
   "outputs": [
    {
     "name": "stdout",
     "output_type": "stream",
     "text": [
      "|- - -|\n",
      "|- - -|\n",
      "|- - -|\n",
      "\n"
     ]
    }
   ],
   "source": [
    "env.render()"
   ]
  },
  {
   "cell_type": "markdown",
   "metadata": {},
   "source": [
    "## Taking actions"
   ]
  },
  {
   "cell_type": "markdown",
   "metadata": {},
   "source": [
    "The game environment will recieve action from two players in turn and update the grid. At each time, one player can take the action $a_t$, where $a_t$ can either be an integer between 0 to 8 or a touple, corresponding to the 9 possible.\n",
    "\n",
    "Function 'step' is used to recieve the action of the player, update the grid:"
   ]
  },
  {
   "cell_type": "code",
   "execution_count": 5,
   "metadata": {},
   "outputs": [
    {
     "data": {
      "text/plain": [
       "(array([[0., 0., 1.],\n",
       "        [0., 0., 0.],\n",
       "        [0., 0., 0.]]),\n",
       " False,\n",
       " None)"
      ]
     },
     "execution_count": 5,
     "metadata": {},
     "output_type": "execute_result"
    }
   ],
   "source": [
    "env.step(2)"
   ]
  },
  {
   "cell_type": "code",
   "execution_count": 6,
   "metadata": {},
   "outputs": [
    {
     "name": "stdout",
     "output_type": "stream",
     "text": [
      "|- - X|\n",
      "|- - -|\n",
      "|- - -|\n",
      "\n"
     ]
    }
   ],
   "source": [
    "env.render()"
   ]
  },
  {
   "cell_type": "code",
   "execution_count": 7,
   "metadata": {
    "scrolled": false
   },
   "outputs": [
    {
     "data": {
      "text/plain": [
       "{'grid': array([[0., 0., 1.],\n",
       "        [0., 0., 0.],\n",
       "        [0., 0., 0.]]),\n",
       " 'end': False,\n",
       " 'winner': None,\n",
       " 'player2value': {'X': 1, 'O': -1},\n",
       " 'num_step': 1,\n",
       " 'current_player': 'O'}"
      ]
     },
     "execution_count": 7,
     "metadata": {},
     "output_type": "execute_result"
    }
   ],
   "source": [
    "env.__dict__"
   ]
  },
  {
   "cell_type": "code",
   "execution_count": 8,
   "metadata": {
    "scrolled": true
   },
   "outputs": [
    {
     "data": {
      "text/plain": [
       "(array([[ 0.,  0.,  1.],\n",
       "        [ 0., -1.,  0.],\n",
       "        [ 0.,  0.,  0.]]),\n",
       " False,\n",
       " None)"
      ]
     },
     "execution_count": 8,
     "metadata": {},
     "output_type": "execute_result"
    }
   ],
   "source": [
    "env.step((1,1))"
   ]
  },
  {
   "cell_type": "code",
   "execution_count": 9,
   "metadata": {
    "scrolled": true
   },
   "outputs": [
    {
     "name": "stdout",
     "output_type": "stream",
     "text": [
      "|- - X|\n",
      "|- O -|\n",
      "|- - -|\n",
      "\n"
     ]
    }
   ],
   "source": [
    "env.render()"
   ]
  },
  {
   "cell_type": "code",
   "execution_count": 10,
   "metadata": {},
   "outputs": [
    {
     "data": {
      "text/plain": [
       "{'grid': array([[ 0.,  0.,  1.],\n",
       "        [ 0., -1.,  0.],\n",
       "        [ 0.,  0.,  0.]]),\n",
       " 'end': False,\n",
       " 'winner': None,\n",
       " 'player2value': {'X': 1, 'O': -1},\n",
       " 'num_step': 2,\n",
       " 'current_player': 'X'}"
      ]
     },
     "execution_count": 10,
     "metadata": {},
     "output_type": "execute_result"
    }
   ],
   "source": [
    "env.__dict__"
   ]
  },
  {
   "cell_type": "markdown",
   "metadata": {},
   "source": [
    "But not all actions are available at each time: One cannot choose a place which has been taken before. There is an error if an unavailable action is taken:"
   ]
  },
  {
   "cell_type": "code",
   "execution_count": 11,
   "metadata": {
    "scrolled": true
   },
   "outputs": [],
   "source": [
    "# env.step((0,2))"
   ]
  },
  {
   "cell_type": "markdown",
   "metadata": {},
   "source": [
    "## Reward"
   ]
  },
  {
   "cell_type": "markdown",
   "metadata": {},
   "source": [
    "Reward is always 0 until the end of the game. When the game is over, the reward is 1 if you win the game, -1 if you lose, and 0 besides. Function 'observe' can be used after each step to recieve the new state $s_t$, whether the game is over, and the winner, and function 'reward' to get the reward value $r_t$:"
   ]
  },
  {
   "cell_type": "code",
   "execution_count": 12,
   "metadata": {},
   "outputs": [
    {
     "data": {
      "text/plain": [
       "(array([[ 0.,  0.,  1.],\n",
       "        [ 0., -1.,  0.],\n",
       "        [ 0.,  0.,  0.]]),\n",
       " False,\n",
       " None)"
      ]
     },
     "execution_count": 12,
     "metadata": {},
     "output_type": "execute_result"
    }
   ],
   "source": [
    "env.observe()"
   ]
  },
  {
   "cell_type": "code",
   "execution_count": 13,
   "metadata": {},
   "outputs": [
    {
     "data": {
      "text/plain": [
       "0"
      ]
     },
     "execution_count": 13,
     "metadata": {},
     "output_type": "execute_result"
    }
   ],
   "source": [
    "env.reward(player='X')"
   ]
  },
  {
   "cell_type": "code",
   "execution_count": 14,
   "metadata": {},
   "outputs": [
    {
     "data": {
      "text/plain": [
       "0"
      ]
     },
     "execution_count": 14,
     "metadata": {},
     "output_type": "execute_result"
    }
   ],
   "source": [
    "env.reward(player='O')"
   ]
  },
  {
   "cell_type": "markdown",
   "metadata": {},
   "source": [
    "An example of finishing the game:"
   ]
  },
  {
   "cell_type": "code",
   "execution_count": 15,
   "metadata": {},
   "outputs": [
    {
     "data": {
      "text/plain": [
       "(array([[ 1.,  1.,  1.],\n",
       "        [-1., -1.,  0.],\n",
       "        [ 0.,  0.,  0.]]),\n",
       " True,\n",
       " 'X')"
      ]
     },
     "execution_count": 15,
     "metadata": {},
     "output_type": "execute_result"
    }
   ],
   "source": [
    "env.step(0)\n",
    "env.step(3)\n",
    "env.step(1)"
   ]
  },
  {
   "cell_type": "code",
   "execution_count": 16,
   "metadata": {},
   "outputs": [
    {
     "name": "stdout",
     "output_type": "stream",
     "text": [
      "|X X X|\n",
      "|O O -|\n",
      "|- - -|\n",
      "\n"
     ]
    }
   ],
   "source": [
    "env.render()"
   ]
  },
  {
   "cell_type": "code",
   "execution_count": 17,
   "metadata": {},
   "outputs": [
    {
     "data": {
      "text/plain": [
       "(array([[ 1.,  1.,  1.],\n",
       "        [-1., -1.,  0.],\n",
       "        [ 0.,  0.,  0.]]),\n",
       " True,\n",
       " 'X')"
      ]
     },
     "execution_count": 17,
     "metadata": {},
     "output_type": "execute_result"
    }
   ],
   "source": [
    "env.observe()"
   ]
  },
  {
   "cell_type": "code",
   "execution_count": 18,
   "metadata": {},
   "outputs": [
    {
     "data": {
      "text/plain": [
       "1"
      ]
     },
     "execution_count": 18,
     "metadata": {},
     "output_type": "execute_result"
    }
   ],
   "source": [
    "\n",
    "env.reward(player='X')"
   ]
  },
  {
   "cell_type": "code",
   "execution_count": 19,
   "metadata": {},
   "outputs": [
    {
     "data": {
      "text/plain": [
       "-1"
      ]
     },
     "execution_count": 19,
     "metadata": {},
     "output_type": "execute_result"
    }
   ],
   "source": [
    "env.reward(player='O')"
   ]
  },
  {
   "cell_type": "markdown",
   "metadata": {},
   "source": [
    "# Optimal policy for Tic Toc Toe environment"
   ]
  },
  {
   "cell_type": "markdown",
   "metadata": {},
   "source": [
    "Fortunately, we know the exact optimal policy for Tic Toc Toe. We have implemented and $\\epsilon$-greedy version of optimal polciy which you can use for the project."
   ]
  },
  {
   "cell_type": "code",
   "execution_count": 20,
   "metadata": {},
   "outputs": [],
   "source": [
    "env.reset();"
   ]
  },
  {
   "cell_type": "code",
   "execution_count": 21,
   "metadata": {},
   "outputs": [],
   "source": [
    "opt_player = OptimalPlayer(epsilon = 0., player = 'X')"
   ]
  },
  {
   "cell_type": "code",
   "execution_count": 22,
   "metadata": {},
   "outputs": [
    {
     "data": {
      "text/plain": [
       "(2, 0)"
      ]
     },
     "execution_count": 22,
     "metadata": {},
     "output_type": "execute_result"
    }
   ],
   "source": [
    "opt_player.act(env.grid)"
   ]
  },
  {
   "cell_type": "code",
   "execution_count": 23,
   "metadata": {
    "scrolled": true
   },
   "outputs": [
    {
     "data": {
      "text/plain": [
       "'X'"
      ]
     },
     "execution_count": 23,
     "metadata": {},
     "output_type": "execute_result"
    }
   ],
   "source": [
    "opt_player.player"
   ]
  },
  {
   "cell_type": "markdown",
   "metadata": {},
   "source": [
    "## An example of optimal player playing against random player"
   ]
  },
  {
   "cell_type": "code",
   "execution_count": 24,
   "metadata": {},
   "outputs": [
    {
     "name": "stdout",
     "output_type": "stream",
     "text": [
      "-------------------------------------------\n",
      "Game end, winner is player X\n",
      "Optimal player = X\n",
      "Random player = O\n",
      "|X - -|\n",
      "|- X O|\n",
      "|O - X|\n",
      "\n",
      "-------------------------------------------\n",
      "Game end, winner is player X\n",
      "Optimal player = X\n",
      "Random player = O\n",
      "|X - -|\n",
      "|O X O|\n",
      "|- - X|\n",
      "\n",
      "-------------------------------------------\n",
      "Game end, winner is player None\n",
      "Optimal player = O\n",
      "Random player = X\n",
      "|X X O|\n",
      "|O O X|\n",
      "|X X O|\n",
      "\n",
      "-------------------------------------------\n",
      "Game end, winner is player X\n",
      "Optimal player = X\n",
      "Random player = O\n",
      "|X O -|\n",
      "|- X O|\n",
      "|- - X|\n",
      "\n",
      "-------------------------------------------\n",
      "Game end, winner is player X\n",
      "Optimal player = X\n",
      "Random player = O\n",
      "|O - X|\n",
      "|O X -|\n",
      "|X - -|\n",
      "\n"
     ]
    }
   ],
   "source": [
    "Turns = np.array(['X','O'])\n",
    "for i in range(5):\n",
    "    env.reset()\n",
    "    grid, _, __ = env.observe()\n",
    "    Turns = Turns[np.random.permutation(2)]\n",
    "    player_opt = OptimalPlayer(epsilon=0., player=Turns[0])\n",
    "    player_rnd = OptimalPlayer(epsilon=1., player=Turns[1])\n",
    "    for j in range(9):\n",
    "        if env.current_player == player_opt.player:\n",
    "            move = player_opt.act(grid)\n",
    "        else:\n",
    "            move = player_rnd.act(grid)\n",
    "\n",
    "        grid, end, winner = env.step(move, print_grid=False)\n",
    "\n",
    "        if end:\n",
    "            print('-------------------------------------------')\n",
    "            print('Game end, winner is player ' + str(winner))\n",
    "            print('Optimal player = ' +  Turns[0])\n",
    "            print('Random player = ' +  Turns[1])\n",
    "            env.render()\n",
    "            env.reset()\n",
    "            break\n"
   ]
  },
  {
   "cell_type": "markdown",
   "metadata": {},
   "source": [
    "## An example of optimal player playing against optimal player"
   ]
  },
  {
   "cell_type": "code",
   "execution_count": 25,
   "metadata": {},
   "outputs": [
    {
     "name": "stdout",
     "output_type": "stream",
     "text": [
      "-------------------------------------------\n",
      "Game end, winner is player X\n",
      "Optimal player 1 = O\n",
      "Optimal player 2 = X\n",
      "|O - X|\n",
      "|- X O|\n",
      "|X O X|\n",
      "\n",
      "-------------------------------------------\n",
      "Game end, winner is player None\n",
      "Optimal player 1 = X\n",
      "Optimal player 2 = O\n",
      "|X O X|\n",
      "|O O X|\n",
      "|X X O|\n",
      "\n",
      "-------------------------------------------\n",
      "Game end, winner is player None\n",
      "Optimal player 1 = O\n",
      "Optimal player 2 = X\n",
      "|O X X|\n",
      "|X X O|\n",
      "|O O X|\n",
      "\n",
      "-------------------------------------------\n",
      "Game end, winner is player None\n",
      "Optimal player 1 = X\n",
      "Optimal player 2 = O\n",
      "|X X O|\n",
      "|O O X|\n",
      "|X O X|\n",
      "\n",
      "-------------------------------------------\n",
      "Game end, winner is player None\n",
      "Optimal player 1 = X\n",
      "Optimal player 2 = O\n",
      "|X O X|\n",
      "|O O X|\n",
      "|X X O|\n",
      "\n"
     ]
    }
   ],
   "source": [
    "Turns = np.array(['X','O'])\n",
    "for i in range(5):\n",
    "    env.reset()\n",
    "    grid, _, __ = env.observe()\n",
    "    Turns = Turns[np.random.permutation(2)]\n",
    "    player_opt_1 = OptimalPlayer(epsilon=0., player=Turns[0])\n",
    "    player_opt_2 = OptimalPlayer(epsilon=0., player=Turns[1])\n",
    "    for j in range(9):\n",
    "        if env.current_player == player_opt.player:\n",
    "            move = player_opt_1.act(grid)\n",
    "        else:\n",
    "            move = player_opt_2.act(grid)\n",
    "\n",
    "        grid, end, winner = env.step(move, print_grid=False)\n",
    "\n",
    "        if end:\n",
    "            print('-------------------------------------------')\n",
    "            print('Game end, winner is player ' + str(winner))\n",
    "            print('Optimal player 1 = ' +  Turns[0])\n",
    "            print('Optimal player 2 = ' +  Turns[1])\n",
    "            env.render()\n",
    "            env.reset()\n",
    "            break\n"
   ]
  },
  {
   "cell_type": "markdown",
   "metadata": {},
   "source": [
    "# Performance measures"
   ]
  },
  {
   "cell_type": "code",
   "execution_count": 26,
   "metadata": {},
   "outputs": [],
   "source": [
    "def run_episode(agent1, agent2, env, switch: bool):\n",
    "    grid, end, __  = env.observe()\n",
    "    if switch:\n",
    "        agent1.player, agent2.player = 'O', 'X'\n",
    "    else:\n",
    "        agent1.player, agent2.player = 'X', 'O'\n",
    "    while end == False:\n",
    "        if env.current_player == agent1.player:\n",
    "            move = agent1.act(grid) \n",
    "            grid, end, winner = env.step(move, print_grid=False) \n",
    "        else:\n",
    "            move = agent2.act(grid)\n",
    "            grid, end, winner = env.step(move, print_grid=False) \n",
    "    return winner, agent1, agent2"
   ]
  },
  {
   "cell_type": "code",
   "execution_count": 27,
   "metadata": {},
   "outputs": [],
   "source": [
    "def eval(agent1, agent2, n_episode: int = 500) -> Dict:\n",
    "    env = TictactoeEnv()\n",
    "    win, los, draw = 0, 0, 0\n",
    "    res = []\n",
    "        \n",
    "    for episode in tqdm(range(n_episode)):\n",
    "        env.reset()\n",
    "        switch = i % 2\n",
    "        winner, agent1, agent2 = run_episode(agent1, agent2, env, switch)\n",
    "\n",
    "        if winner == agent1.player:\n",
    "            win += 1\n",
    "            res.append(1)\n",
    "        elif winner == agent2.player:\n",
    "            los += 1\n",
    "            res.append(-1)\n",
    "        else:\n",
    "            draw += 1\n",
    "            res.append(0)\n",
    "    \n",
    "    res_info = {\n",
    "        'win': win,\n",
    "        'los': los,\n",
    "        'draw': draw,\n",
    "        'res': res,\n",
    "        'metric': (win-los)/n_episode, \n",
    "        'draw_rate': draw/n_episode\n",
    "    }\n",
    "           \n",
    "    return res_info"
   ]
  },
  {
   "cell_type": "code",
   "execution_count": 28,
   "metadata": {},
   "outputs": [
    {
     "name": "stderr",
     "output_type": "stream",
     "text": [
      "100%|██████████| 500/500 [00:02<00:00, 228.20it/s]\n"
     ]
    },
    {
     "name": "stdout",
     "output_type": "stream",
     "text": [
      "# Eval with Opt(0.0)\n",
      "Mopt = 0.0, Draw rate = 1.0\n"
     ]
    },
    {
     "name": "stderr",
     "output_type": "stream",
     "text": [
      "100%|██████████| 500/500 [00:01<00:00, 472.81it/s]"
     ]
    },
    {
     "name": "stdout",
     "output_type": "stream",
     "text": [
      "# Eval with Opt(1.0)\n",
      "Mrand = 0.952, Draw rate = 0.048\n"
     ]
    },
    {
     "name": "stderr",
     "output_type": "stream",
     "text": [
      "\n"
     ]
    }
   ],
   "source": [
    "metric_dict = {'opt': 0.0, 'rand': 1.0}\n",
    "for (mode, epsilon) in metric_dict.items():\n",
    "    player_opt = OptimalPlayer(epsilon=0.)\n",
    "    player_baseline = OptimalPlayer(epsilon=epsilon)\n",
    "    res_info = eval(player_opt, player_baseline)\n",
    "    \n",
    "    print(\"# Eval with Opt({})\".format(epsilon))\n",
    "    print('M{} = {}, Draw rate = {}'.format(mode, res_info['metric'], res_info['draw_rate']))"
   ]
  },
  {
   "cell_type": "code",
   "execution_count": 29,
   "metadata": {},
   "outputs": [
    {
     "data": {
      "image/png": "[encoded data removed]",
      "text/plain": [
       "<Figure size 432x360 with 1 Axes>"
      ]
     },
     "metadata": {
      "needs_background": "light"
     },
     "output_type": "display_data"
    }
   ],
   "source": [
    "def res_plot(epi_res: List, window: int = 250) -> None:\n",
    "    results = np.mean(np.array(epi_res).reshape(-1,window), axis=1)\n",
    "    fig, axes = plt.subplots(figsize=(6, 5))\n",
    "    axes.plot(results)\n",
    "    axes.set_title('Result with avg. window = {} (Totol = {})'.format(window, len(epi_res)))\n",
    "    \n",
    "epi_res = res_info['res']\n",
    "res_plot(epi_res, window=5)"
   ]
  },
  {
   "cell_type": "markdown",
   "metadata": {},
   "source": [
    "# 2 TicTacToe with DQN"
   ]
  },
  {
   "cell_type": "code",
   "execution_count": 30,
   "metadata": {},
   "outputs": [],
   "source": [
    "# std\n",
    "import io\n",
    "import sys\n",
    "import random\n",
    "import logging\n",
    "from collections import namedtuple, deque\n",
    "\n",
    "# imported\n",
    "import torch\n",
    "import torch.nn as nn\n",
    "import torch.optim as optim\n",
    "import torch.nn.functional as F"
   ]
  },
  {
   "cell_type": "markdown",
   "metadata": {},
   "source": [
    "- a feedforward neural net with three hidden layers consisting of 128, 256, and 128 neurons\n",
    "- input: 9 poition x 2 possible states\n",
    "- output: nine actions"
   ]
  },
  {
   "cell_type": "markdown",
   "metadata": {},
   "source": [
    "## 2.0 Implementation details"
   ]
  },
  {
   "cell_type": "markdown",
   "metadata": {},
   "source": [
    "### Setup"
   ]
  },
  {
   "cell_type": "code",
   "execution_count": 31,
   "metadata": {},
   "outputs": [],
   "source": [
    "BATCH_SIZE = 64\n",
    "BUFFER_SIZE = 10000\n",
    "GAMMA = 0.99 # discount factor\n",
    "TARGET_UPDATE = 500 # update interval\n",
    "START_LR = 5e-4\n",
    "EPS_MAX = 0.8\n",
    "EPS_MIN = 0.1\n",
    "N_STAR = 20000\n",
    "DEVICE = torch.device(\"cuda\" if torch.cuda.is_available() else \"cpu\")"
   ]
  },
  {
   "cell_type": "markdown",
   "metadata": {},
   "source": [
    "### Utility"
   ]
  },
  {
   "cell_type": "code",
   "execution_count": 32,
   "metadata": {},
   "outputs": [],
   "source": [
    "def grid_to_state(\n",
    "    grid: np.array, \n",
    "    switch: bool = False, \n",
    "    vec: bool = True,\n",
    ") -> np.array:\n",
    "    \"\"\"If not switched, 1 and -1 on the grid means X and O, and vice versa\"\"\"\n",
    "    \n",
    "    state = np.zeros((3, 3, 2))\n",
    "    \n",
    "    if not switch:\n",
    "        state[:, :, 0] = (grid==1).astype(float)\n",
    "        state[:, :, 1] = (grid==-1).astype(float)\n",
    "    else:\n",
    "        state[:, :, 0] = (grid==-1).astype(float)\n",
    "        state[:, :, 1] = (grid==1).astype(float)\n",
    "    \n",
    "    if vec:\n",
    "        state = state.reshape(1,-1)\n",
    "    \n",
    "    return torch.tensor(state, dtype=torch.float)"
   ]
  },
  {
   "cell_type": "code",
   "execution_count": 33,
   "metadata": {},
   "outputs": [
    {
     "name": "stdout",
     "output_type": "stream",
     "text": [
      "[[ 0.  0.  1.]\n",
      " [-1.  0.  1.]\n",
      " [ 0.  0.  0.]]\n"
     ]
    }
   ],
   "source": [
    "grid, _, _ = env.reset()\n",
    "grid, _, _ = env.step(2)\n",
    "grid, _, _ = env.step(3)\n",
    "grid, _, _ = env.step(5)\n",
    "print(grid)\n",
    "test_state1 = grid_to_state(grid, vec=False)\n",
    "# print(test_state1[:,:,0], test_state1[:,:,1])\n",
    "test_state2 = grid_to_state(grid, switch=True, vec=False)\n",
    "# print(test_state2[:,:,0], test_state2[:,:,1])\n",
    "assert np.array_equal(test_state1[:,:,0], test_state2[:,:,1])\n",
    "assert np.array_equal(test_state2[:,:,0], test_state1[:,:,1])"
   ]
  },
  {
   "cell_type": "code",
   "execution_count": 34,
   "metadata": {},
   "outputs": [
    {
     "data": {
      "text/plain": [
       "tensor([[[0., 0.],\n",
       "         [0., 0.],\n",
       "         [0., 1.]],\n",
       "\n",
       "        [[1., 0.],\n",
       "         [0., 0.],\n",
       "         [0., 1.]],\n",
       "\n",
       "        [[0., 0.],\n",
       "         [0., 0.],\n",
       "         [0., 0.]]])"
      ]
     },
     "execution_count": 34,
     "metadata": {},
     "output_type": "execute_result"
    }
   ],
   "source": [
    "test_state2"
   ]
  },
  {
   "cell_type": "code",
   "execution_count": 35,
   "metadata": {},
   "outputs": [
    {
     "data": {
      "text/plain": [
       "array([ True,  True, False, False,  True, False,  True,  True,  True])"
      ]
     },
     "execution_count": 35,
     "metadata": {},
     "output_type": "execute_result"
    }
   ],
   "source": [
    "test_state3 = grid_to_state(grid, switch=True, vec=True)\n",
    "valid_moves = (test_state3.cpu().numpy().reshape(3,3,2).sum(axis=2).reshape(-1) == 0)\n",
    "valid_moves"
   ]
  },
  {
   "cell_type": "markdown",
   "metadata": {},
   "source": [
    "### Replay memory"
   ]
  },
  {
   "cell_type": "markdown",
   "metadata": {},
   "source": [
    "- `Transition`: a single transition in our environment. It essentially maps (state, action) pairs to their (next_state, reward) result, with the state being the board position (showing -, O, or X)\n",
    "- `ReplayMemory`: a cyclic buffer of bounded size that holds the transitions observed recently, which could be sampled for selecting a random batch of transitions for training"
   ]
  },
  {
   "cell_type": "code",
   "execution_count": 36,
   "metadata": {},
   "outputs": [],
   "source": [
    "# ref: https://pytorch.org/tutorials/intermediate/reinforcement_q_learning.html#replay-memory\n",
    "Transition = namedtuple('Transition',\n",
    "                        ('state', 'action', 'next_state', 'reward'))\n",
    "\n",
    "class ReplayMemory(object):\n",
    "\n",
    "    def __init__(self, capacity):\n",
    "        self.memory = deque([],maxlen=capacity)\n",
    "\n",
    "    def push(self, *args):\n",
    "        \"\"\"Save a transition\"\"\"\n",
    "        self.memory.append(Transition(*args))\n",
    "\n",
    "    def sample(self, batch_size):\n",
    "        return random.sample(self.memory, batch_size)\n",
    "    \n",
    "    def last(self):\n",
    "        return self.memory[-1]\n",
    "\n",
    "    def __len__(self):\n",
    "        return len(self.memory)"
   ]
  },
  {
   "cell_type": "markdown",
   "metadata": {},
   "source": [
    "- Example of memory replay buffer"
   ]
  },
  {
   "cell_type": "code",
   "execution_count": 37,
   "metadata": {},
   "outputs": [
    {
     "name": "stdout",
     "output_type": "stream",
     "text": [
      "[Transition(state=2, action=1, next_state=3, reward=0.4548298861859761), Transition(state=3, action=0, next_state=4, reward=0.018646542476254302)] [Transition(state=9, action=0, next_state=None, reward=0.978802708205733)]\n",
      "Batch:  Transition(state=(2, 3), action=(1, 0), next_state=(3, 4), reward=(0.4548298861859761, 0.018646542476254302)) Transition(state=(9,), action=(0,), next_state=(None,), reward=(0.978802708205733,))\n"
     ]
    }
   ],
   "source": [
    "memory = ReplayMemory(100)\n",
    "for i in range(10):\n",
    "    action = random.randrange(2)\n",
    "    reward = random.random()\n",
    "    if i==9:\n",
    "        memory.push(i, action, None, reward)\n",
    "    else:\n",
    "        memory.push(i, action, i+1, reward)\n",
    "transitions1 = memory.sample(2)\n",
    "transitions2 = [memory.last()]\n",
    "print(transitions1, transitions2)\n",
    "assert type(transitions1) == type(transitions2)\n",
    "\n",
    "# unzip as batch\n",
    "batch1 = Transition(*zip(*transitions1))\n",
    "batch2 = Transition(*zip(*transitions2))\n",
    "print(\"Batch: \", batch1, batch2)"
   ]
  },
  {
   "cell_type": "code",
   "execution_count": 38,
   "metadata": {},
   "outputs": [
    {
     "data": {
      "text/plain": [
       "[]"
      ]
     },
     "execution_count": 38,
     "metadata": {},
     "output_type": "execute_result"
    }
   ],
   "source": [
    "non_final_next_states = [s for s in batch2.next_state if s is not None]\n",
    "non_final_next_states\n",
    "# if None, report []"
   ]
  },
  {
   "cell_type": "markdown",
   "metadata": {},
   "source": [
    "### Illegal moves reward (TODO)"
   ]
  },
  {
   "cell_type": "code",
   "execution_count": 39,
   "metadata": {},
   "outputs": [],
   "source": [
    "R_UNAV = -1\n",
    "# invalid = env.check_valid(position) == False"
   ]
  },
  {
   "cell_type": "markdown",
   "metadata": {},
   "source": [
    "### DQN algorithm"
   ]
  },
  {
   "cell_type": "markdown",
   "metadata": {},
   "source": [
    "- input state $s_t$ by a 3 × 3 × 2 tensor\n",
    "- 2 hidden layers each with 128 neurons – with ReLu activation functions.\n",
    "The output layer has 9 neurons (for 9 different actions) with linear activation functions\n",
    "- 9 neurons (for 9 different actions) with linear activation functions\n",
    "\n",
    "PS: do not constraint actions to only available actions. However, whenever the agent takes an unavailable action, we end the game and give the agent a negative reward\n",
    "of value $r_{unav}$ = −1."
   ]
  },
  {
   "cell_type": "code",
   "execution_count": 40,
   "metadata": {},
   "outputs": [],
   "source": [
    "class DQN(nn.Module):\n",
    "\n",
    "    def __init__(self, n_inputs: int = 18, n_outputs: int = 9):\n",
    "        super(DQN, self).__init__()\n",
    "        self.i2h = nn.Linear(n_inputs, 128)\n",
    "        self.hid = nn.Linear(128, 128)\n",
    "        self.h2o = nn.Linear(128, n_outputs)\n",
    "\n",
    "    # Called with either one element to determine next action, or a batch\n",
    "    # during optimization.\n",
    "    def forward(self, x):\n",
    "        x = F.relu(self.i2h(x))\n",
    "        x = F.relu(self.hid(x))\n",
    "        x = self.h2o(x)\n",
    "        return x\n",
    "    \n",
    "    def act(self, state):\n",
    "        with torch.no_grad():\n",
    "            return self.forward(state).max(1)[1].view(1, 1)"
   ]
  },
  {
   "cell_type": "code",
   "execution_count": 41,
   "metadata": {},
   "outputs": [],
   "source": [
    "def decreasing_exploration(\n",
    "    n_step: int,\n",
    "    n_star: int = 20000, \n",
    "    e_max: float = 0.8, \n",
    "    e_min: float = 0.1, \n",
    "):\n",
    "    return max(e_min, e_max * (1 - n_step/n_star)) "
   ]
  },
  {
   "cell_type": "code",
   "execution_count": 48,
   "metadata": {},
   "outputs": [],
   "source": [
    "def empty(grid):\n",
    "    '''return all empty positions'''\n",
    "    avail = []\n",
    "    for i in range(9):\n",
    "        pos = (int(i / 3), i % 3)\n",
    "        if grid[pos] == 0:\n",
    "            avail.append(pos)\n",
    "    return avail\n",
    "\n",
    "def random_move(grid):\n",
    "    \"\"\"Chose a random move from the available options.\"\"\"\n",
    "    avail = empty(grid)\n",
    "    return avail[random.randint(0, len(avail) - 1)]\n",
    "\n",
    "def tuple_to_int(action):\n",
    "    return action[0] * 3 + action[1]"
   ]
  },
  {
   "cell_type": "code",
   "execution_count": 57,
   "metadata": {},
   "outputs": [],
   "source": [
    "def select_action(\n",
    "    eps: float,\n",
    "    policy: nn.Module, \n",
    "    grid: np.array, \n",
    "    device: torch.device, \n",
    "    nr_action: int = 9,\n",
    "    switch=False,\n",
    ") -> Tuple[torch.tensor, bool]:\n",
    "    \n",
    "    state = grid_to_state(grid, switch=switch).to(device)\n",
    "\n",
    "    if random.random() > eps:\n",
    "        return (policy.act(state), state, False)\n",
    "    else:\n",
    "        action_tuple = random_move(grid)\n",
    "        return (torch.tensor(\n",
    "            [[tuple_to_int(action_tuple)]],\n",
    "            device=device,\n",
    "            ),\n",
    "                state, \n",
    "                True\n",
    "       )\n",
    "        \n",
    "#         return (\n",
    "#             torch.tensor(\n",
    "#                 [[random.randrange(9)]],\n",
    "#                 device=device,\n",
    "#             ),\n",
    "#             True,\n",
    "#         )"
   ]
  },
  {
   "cell_type": "code",
   "execution_count": 58,
   "metadata": {},
   "outputs": [],
   "source": [
    "def optimize_model(\n",
    "    batch_size: int,\n",
    "    gamma: float,\n",
    "    device: torch.device,\n",
    "    optimizer: optim.Optimizer,\n",
    "    criterion: torch.nn,\n",
    "    policy: nn.Module,\n",
    "    target: nn.Module,\n",
    "    replay: bool = True,\n",
    "    memory: ReplayMemory = None,\n",
    "):\n",
    "    \"\"\"Model optimization step, borrow from the Torch DQN tutorial.\n",
    "    \n",
    "    Arguments:\n",
    "        batch_size {int} -- Number of observations to use per batch step\n",
    "        gamma {float} -- Reward discount factor\n",
    "        device {torch.device} -- Device\n",
    "        optimizer {torch.optim.Optimizer} -- Optimizer\n",
    "        criterion {torch.nn} -- Loss\n",
    "        policy {nn.Module} -- Policy net\n",
    "        target {nn.Module} -- Target net\n",
    "        replay {bool} -- Use replay buffer for not\n",
    "        memory {ReplayMemory} -- Replay memory\n",
    "    \"\"\"\n",
    "    if replay:\n",
    "        if len(memory) < batch_size:\n",
    "            return\n",
    "        transitions = memory.sample(batch_size)\n",
    "        # Transpose the batch (see https://stackoverflow.com/a/19343/3343043 for\n",
    "        # detailed explanation). This converts batch-array of Transitions\n",
    "        # to Transition of batch-arrays.\n",
    "    else:\n",
    "        # update the network by using only the latest transition\n",
    "        transitions = [memory.last()]\n",
    "    batch = Transition(*zip(*transitions))\n",
    "\n",
    "    # Compute a mask of non-final states and concatenate the batch elements\n",
    "    # (a final state would've been the one after which simulation ended)\n",
    "    non_final_mask = torch.tensor(\n",
    "        tuple(map(lambda s: s is not None, batch.next_state)),\n",
    "        device=device,\n",
    "        dtype=torch.bool,\n",
    "    )\n",
    "    non_final_next_states_ = [s for s in batch.next_state if s is not None]\n",
    "    # TODO: check correct or not with batch_size = 1\n",
    "    if len(non_final_next_states_) == 0:\n",
    "        return\n",
    "    non_final_next_states = torch.cat(non_final_next_states_)\n",
    "    state_batch = torch.cat(batch.state)\n",
    "    action_batch = torch.cat(batch.action)\n",
    "    reward_batch = torch.cat(batch.reward)\n",
    "\n",
    "    # Compute Q(s_t, a) - the model computes Q(s_t), then we select the\n",
    "    # columns of actions taken. These are the actions which would've been taken\n",
    "    # for each batch state according to policy\n",
    "    state_action_values = policy(state_batch).gather(1, action_batch)\n",
    "\n",
    "    # Compute V(s_{t+1}) for all next states.\n",
    "    # Expected values of actions for non_final_next_states are computed based\n",
    "    # on the \"older\" target_net; selecting their best reward with max(1)[0].\n",
    "    # This is merged based on the mask, such that we'll have either the expected\n",
    "    # state value or 0 in case the state was final.\n",
    "    next_state_values = torch.zeros(batch_size, device=device)\n",
    "    next_state_values[non_final_mask] = target(non_final_next_states).max(1)[0].detach()\n",
    "    # Compute the expected Q values\n",
    "    expected_state_action_values = (next_state_values * gamma) + reward_batch\n",
    "\n",
    "    # Compute Huber loss\n",
    "    loss = criterion(\n",
    "        state_action_values, \n",
    "        expected_state_action_values.unsqueeze(1)\n",
    "    )\n",
    "\n",
    "    # Optimize the model\n",
    "    optimizer.zero_grad()\n",
    "    loss.backward()\n",
    "    for param in policy.parameters():\n",
    "        param.grad.data.clamp_(-1, 1)\n",
    "    optimizer.step()\n",
    "    \n",
    "    return loss.detach().numpy()"
   ]
  },
  {
   "cell_type": "code",
   "execution_count": 71,
   "metadata": {},
   "outputs": [],
   "source": [
    "def fit(\n",
    "    n_episode: int = 20000,\n",
    "    batch_size: int = BATCH_SIZE,\n",
    "    buffer_size: int = BUFFER_SIZE,\n",
    "    gamma: float = GAMMA,\n",
    "    target_update: int = TARGET_UPDATE,\n",
    "    explore: bool = False,\n",
    "    replay: bool = True,\n",
    "    n_star: int = N_STAR, \n",
    "    e_max: float = EPS_MAX, \n",
    "    e_min: float = EPS_MIN, \n",
    "    lr: float = START_LR,\n",
    "    logging_size = 2000,\n",
    "    seed = None,\n",
    "    device: torch.device = None, \n",
    "    save_ckpt: str = 'policy.pth',\n",
    ") -> List:\n",
    "\n",
    "    logging.info(\"Beginning training on: {}\".format(device))\n",
    "    \n",
    "    # Network\n",
    "    policy = DQN(n_inputs = 18, n_outputs = 9).to(device)\n",
    "    target = DQN(n_inputs = 18, n_outputs = 9).to(device)\n",
    "    target.load_state_dict(policy.state_dict())\n",
    "    target.eval()\n",
    "\n",
    "    # Adam optimizer\n",
    "    optimizer = optim.Adam(policy.parameters(), lr=lr)\n",
    "    \n",
    "    # TODO: scheduler?\n",
    "\n",
    "    # Huber loss (delte=1 in SmoothL1Loss)\n",
    "    criterion = nn.SmoothL1Loss()\n",
    "\n",
    "    # Memory buffer\n",
    "    if replay:\n",
    "        memory = ReplayMemory(BUFFER_SIZE)\n",
    "    else:\n",
    "        memory = ReplayMemory(9)\n",
    "\n",
    "    env = TictactoeEnv()\n",
    "    # state = torch.tensor([], dtype=torch.float).to(device)\n",
    "    info = {\n",
    "        \"total\": 0,\n",
    "        \"illegals\": 0,\n",
    "        \"tie_g\": 0,\n",
    "        \"win_g\": 0,\n",
    "        \"los_g\": 0,\n",
    "        \"win_rate\": 0.0,\n",
    "        \"eps\": 0.0,\n",
    "        \"loss\": []\n",
    "    }\n",
    "    summaries = []\n",
    "    losses = []\n",
    "    rewards = []\n",
    "    \n",
    "    # Expert\n",
    "    expert = OptimalPlayer(epsilon=.5)\n",
    "\n",
    "    for episode in tqdm(range(n_episode)):\n",
    "        switch = episode % 2\n",
    "        if switch:\n",
    "            player1, player2 = 'O', 'X'\n",
    "        else:\n",
    "            player1, player2 = 'X', 'O'\n",
    "        expert.player = player2\n",
    "        \n",
    "        grid, end, _ = env.reset()\n",
    "        \n",
    "        if explore:\n",
    "            eps = decreasing_exploration(episode, n_star, e_max, e_min)\n",
    "        else:\n",
    "            eps = e_max\n",
    "        \n",
    "        # Take first step by expert\n",
    "        if env.num_step == 0 and switch:\n",
    "            move = expert.act(grid)\n",
    "            grid, end, winner = env.step(move, print_grid=False) \n",
    "            \n",
    "        while not end:\n",
    "            # Select and perform an action from DQN\n",
    "            # state = grid_to_state(grid, switch=switch, vec=True).to(device)\n",
    "            action, state, _ = select_action(eps, policy, grid, device, switch=switch)\n",
    "            if env.check_valid(action.item()):\n",
    "                grid, end, winner = env.step(action.item(), print_grid=False)\n",
    "                reward = env.reward(player=player1)\n",
    "            else:\n",
    "                reward = R_UNAV # -1\n",
    "                end = True\n",
    "                info[\"illegals\"] += 1\n",
    "                winner = player2\n",
    "                # print(episode, \"Illegal moves\")\n",
    "                \n",
    "            if not end:\n",
    "                move = expert.act(grid)\n",
    "                grid, end, winner = env.step(move, print_grid=False) \n",
    "                # Observe new state\n",
    "                next_state = grid_to_state(grid, switch=switch, vec=True).to(device)\n",
    "            else:\n",
    "                next_state = None\n",
    "            \n",
    "            memory.push(state, action, next_state, torch.tensor([reward], device=device))\n",
    "\n",
    "            loss = optimize_model(\n",
    "                batch_size=batch_size,\n",
    "                gamma=gamma,\n",
    "                device=device,\n",
    "                optimizer=optimizer,\n",
    "                criterion=criterion,\n",
    "                policy=policy,\n",
    "                target=target,\n",
    "                replay=replay,\n",
    "                memory=memory,\n",
    "            )\n",
    "            \n",
    "            losses.append(loss)\n",
    "            \n",
    "        if reward != -1:\n",
    "            final_reward = env.reward(player=player1)\n",
    "            rewards.append(final_reward)\n",
    "        else:\n",
    "            rewards.append(-1)\n",
    "            \n",
    "        # update summary\n",
    "        info['total'] = episode + 1\n",
    "        if winner == None:\n",
    "            info['tie_g'] += 1\n",
    "        elif winner == player1:\n",
    "            info['win_g'] += 1\n",
    "        else:\n",
    "            info['los_g'] += 1\n",
    "        info['win_rate'] = info['win_g'] / info['total']\n",
    "        info['eps'] = eps\n",
    "        # info['loss'] = loss\n",
    "        summaries.append(info)\n",
    "        \n",
    "        \n",
    "        if episode and ((episode+1) % target_update) == 0:\n",
    "            target.load_state_dict(policy.state_dict())\n",
    "        if episode and ((episode+1) % logging_size) == 0:\n",
    "            # print(info)\n",
    "            [print(key,':',value) for key, value in info.items()]\n",
    "\n",
    "    logging.info(\"Complete\")\n",
    "    torch.save(policy.state_dict(), 'policy.pth')\n",
    "    logging.info(\"Save policy as {}!\".format(save_ckpt))\n",
    "    \n",
    "    return summaries, losses, rewards"
   ]
  },
  {
   "cell_type": "code",
   "execution_count": 72,
   "metadata": {},
   "outputs": [
    {
     "name": "stderr",
     "output_type": "stream",
     "text": [
      "INFO:root:Beginning training on: cuda\n",
      " 25%|██▌       | 2511/10000 [00:27<01:29, 83.43it/s] "
     ]
    },
    {
     "name": "stdout",
     "output_type": "stream",
     "text": [
      "total : 2500\n",
      "illegals : 75\n",
      "tie_g : 117\n",
      "win_g : 892\n",
      "los_g : 1491\n",
      "win_rate : 0.3568\n",
      "eps : 0.2\n",
      "loss : []\n"
     ]
    },
    {
     "name": "stderr",
     "output_type": "stream",
     "text": [
      " 50%|█████     | 5010/10000 [00:57<00:56, 88.36it/s] "
     ]
    },
    {
     "name": "stdout",
     "output_type": "stream",
     "text": [
      "total : 5000\n",
      "illegals : 90\n",
      "tie_g : 210\n",
      "win_g : 1869\n",
      "los_g : 2921\n",
      "win_rate : 0.3738\n",
      "eps : 0.2\n",
      "loss : []\n"
     ]
    },
    {
     "name": "stderr",
     "output_type": "stream",
     "text": [
      " 75%|███████▌  | 7513/10000 [01:23<00:27, 92.09it/s] "
     ]
    },
    {
     "name": "stdout",
     "output_type": "stream",
     "text": [
      "total : 7500\n",
      "illegals : 122\n",
      "tie_g : 286\n",
      "win_g : 2726\n",
      "los_g : 4488\n",
      "win_rate : 0.36346666666666666\n",
      "eps : 0.2\n",
      "loss : []\n"
     ]
    },
    {
     "name": "stderr",
     "output_type": "stream",
     "text": [
      "100%|██████████| 10000/10000 [01:50<00:00, 90.56it/s]\n",
      "INFO:root:Complete\n",
      "INFO:root:Save policy as policy.pth!\n"
     ]
    },
    {
     "name": "stdout",
     "output_type": "stream",
     "text": [
      "total : 10000\n",
      "illegals : 147\n",
      "tie_g : 371\n",
      "win_g : 3484\n",
      "los_g : 6145\n",
      "win_rate : 0.3484\n",
      "eps : 0.2\n",
      "loss : []\n"
     ]
    }
   ],
   "source": [
    "logging.basicConfig(level=logging.DEBUG)\n",
    "summaries, losses, rewards = fit(\n",
    "    n_episode=10000, \n",
    "    target_update=500, \n",
    "    logging_size=2500, \n",
    "    explore=False, \n",
    "    e_max=0.2,\n",
    "    n_star=10000,\n",
    "    device=DEVICE,\n",
    "    replay=True,\n",
    "    batch_size=32, \n",
    ")"
   ]
  },
  {
   "cell_type": "code",
   "execution_count": 81,
   "metadata": {},
   "outputs": [],
   "source": [
    "from dqn_utils import window_avg_plot"
   ]
  },
  {
   "cell_type": "code",
   "execution_count": 82,
   "metadata": {},
   "outputs": [
    {
     "name": "stdout",
     "output_type": "stream",
     "text": [
      "<class 'numpy.ndarray'>\n",
      "(40,) (40,)\n"
     ]
    },
    {
     "data": {
      "image/png": "[encoded data removed]",
      "text/plain": [
       "<Figure size 720x288 with 2 Axes>"
      ]
     },
     "metadata": {
      "needs_background": "light"
     },
     "output_type": "display_data"
    }
   ],
   "source": [
    "import numpy as np\n",
    "import matplotlib.pyplot as plt\n",
    "\n",
    "_, ax = plt.subplots(1,2, figsize=(10, 4))\n",
    "# rewards_example = np.linspace(-1, 1, 20000) + np.random.rand(20000)\n",
    "window_avg_plot(axes=ax[0], var=rewards)\n"
   ]
  },
  {
   "cell_type": "code",
   "execution_count": 83,
   "metadata": {
    "scrolled": false
   },
   "outputs": [
    {
     "name": "stderr",
     "output_type": "stream",
     "text": [
      "INFO:root:Beginning training on: cuda\n",
      "  6%|▋         | 2516/40000 [00:25<07:06, 87.89it/s] "
     ]
    },
    {
     "name": "stdout",
     "output_type": "stream",
     "text": [
      "total : 2500\n",
      "illegals : 83\n",
      "tie_g : 102\n",
      "win_g : 826\n",
      "los_g : 1572\n",
      "win_rate : 0.3304\n",
      "eps : 0.2\n",
      "loss : []\n"
     ]
    },
    {
     "name": "stderr",
     "output_type": "stream",
     "text": [
      " 13%|█▎        | 5013/40000 [00:52<06:50, 85.21it/s] "
     ]
    },
    {
     "name": "stdout",
     "output_type": "stream",
     "text": [
      "total : 5000\n",
      "illegals : 102\n",
      "tie_g : 176\n",
      "win_g : 1710\n",
      "los_g : 3114\n",
      "win_rate : 0.342\n",
      "eps : 0.2\n",
      "loss : []\n"
     ]
    },
    {
     "name": "stderr",
     "output_type": "stream",
     "text": [
      " 19%|█▉        | 7517/40000 [01:23<06:23, 84.69it/s] "
     ]
    },
    {
     "name": "stdout",
     "output_type": "stream",
     "text": [
      "total : 7500\n",
      "illegals : 134\n",
      "tie_g : 238\n",
      "win_g : 2458\n",
      "los_g : 4804\n",
      "win_rate : 0.3277333333333333\n",
      "eps : 0.2\n",
      "loss : []\n"
     ]
    },
    {
     "name": "stderr",
     "output_type": "stream",
     "text": [
      " 25%|██▌       | 10015/40000 [01:52<05:28, 91.34it/s]"
     ]
    },
    {
     "name": "stdout",
     "output_type": "stream",
     "text": [
      "total : 10000\n",
      "illegals : 192\n",
      "tie_g : 351\n",
      "win_g : 3099\n",
      "los_g : 6550\n",
      "win_rate : 0.3099\n",
      "eps : 0.2\n",
      "loss : []\n"
     ]
    },
    {
     "name": "stderr",
     "output_type": "stream",
     "text": [
      " 31%|███▏      | 12513/40000 [02:21<06:14, 73.48it/s]"
     ]
    },
    {
     "name": "stdout",
     "output_type": "stream",
     "text": [
      "total : 12500\n",
      "illegals : 338\n",
      "tie_g : 520\n",
      "win_g : 3706\n",
      "los_g : 8274\n",
      "win_rate : 0.29648\n",
      "eps : 0.2\n",
      "loss : []\n"
     ]
    },
    {
     "name": "stderr",
     "output_type": "stream",
     "text": [
      " 38%|███▊      | 15015/40000 [02:51<04:34, 91.04it/s]"
     ]
    },
    {
     "name": "stdout",
     "output_type": "stream",
     "text": [
      "total : 15000\n",
      "illegals : 603\n",
      "tie_g : 697\n",
      "win_g : 4203\n",
      "los_g : 10100\n",
      "win_rate : 0.2802\n",
      "eps : 0.2\n",
      "loss : []\n"
     ]
    },
    {
     "name": "stderr",
     "output_type": "stream",
     "text": [
      " 44%|████▍     | 17512/40000 [03:20<05:13, 71.82it/s]"
     ]
    },
    {
     "name": "stdout",
     "output_type": "stream",
     "text": [
      "total : 17500\n",
      "illegals : 797\n",
      "tie_g : 844\n",
      "win_g : 4699\n",
      "los_g : 11957\n",
      "win_rate : 0.2685142857142857\n",
      "eps : 0.2\n",
      "loss : []\n"
     ]
    },
    {
     "name": "stderr",
     "output_type": "stream",
     "text": [
      " 50%|█████     | 20017/40000 [03:51<03:38, 91.25it/s]"
     ]
    },
    {
     "name": "stdout",
     "output_type": "stream",
     "text": [
      "total : 20000\n",
      "illegals : 1056\n",
      "tie_g : 1008\n",
      "win_g : 5186\n",
      "los_g : 13806\n",
      "win_rate : 0.2593\n",
      "eps : 0.2\n",
      "loss : []\n"
     ]
    },
    {
     "name": "stderr",
     "output_type": "stream",
     "text": [
      " 56%|█████▋    | 22507/40000 [04:21<03:29, 83.50it/s] "
     ]
    },
    {
     "name": "stdout",
     "output_type": "stream",
     "text": [
      "total : 22500\n",
      "illegals : 1304\n",
      "tie_g : 1188\n",
      "win_g : 5685\n",
      "los_g : 15627\n",
      "win_rate : 0.25266666666666665\n",
      "eps : 0.2\n",
      "loss : []\n"
     ]
    },
    {
     "name": "stderr",
     "output_type": "stream",
     "text": [
      " 63%|██████▎   | 25013/40000 [04:52<02:42, 92.03it/s]"
     ]
    },
    {
     "name": "stdout",
     "output_type": "stream",
     "text": [
      "total : 25000\n",
      "illegals : 1584\n",
      "tie_g : 1383\n",
      "win_g : 6211\n",
      "los_g : 17406\n",
      "win_rate : 0.24844\n",
      "eps : 0.2\n",
      "loss : []\n"
     ]
    },
    {
     "name": "stderr",
     "output_type": "stream",
     "text": [
      " 69%|██████▉   | 27507/40000 [05:22<03:09, 65.86it/s]"
     ]
    },
    {
     "name": "stdout",
     "output_type": "stream",
     "text": [
      "total : 27500\n",
      "illegals : 1877\n",
      "tie_g : 1575\n",
      "win_g : 6719\n",
      "los_g : 19206\n",
      "win_rate : 0.24432727272727273\n",
      "eps : 0.2\n",
      "loss : []\n"
     ]
    },
    {
     "name": "stderr",
     "output_type": "stream",
     "text": [
      " 75%|███████▌  | 30010/40000 [05:55<02:05, 79.67it/s]"
     ]
    },
    {
     "name": "stdout",
     "output_type": "stream",
     "text": [
      "total : 30000\n",
      "illegals : 2163\n",
      "tie_g : 1757\n",
      "win_g : 7182\n",
      "los_g : 21061\n",
      "win_rate : 0.2394\n",
      "eps : 0.2\n",
      "loss : []\n"
     ]
    },
    {
     "name": "stderr",
     "output_type": "stream",
     "text": [
      " 81%|████████▏ | 32518/40000 [06:25<01:21, 92.00it/s] "
     ]
    },
    {
     "name": "stdout",
     "output_type": "stream",
     "text": [
      "total : 32500\n",
      "illegals : 2423\n",
      "tie_g : 1964\n",
      "win_g : 7626\n",
      "los_g : 22910\n",
      "win_rate : 0.23464615384615384\n",
      "eps : 0.2\n",
      "loss : []\n"
     ]
    },
    {
     "name": "stderr",
     "output_type": "stream",
     "text": [
      " 88%|████████▊ | 35011/40000 [06:52<00:56, 88.44it/s] "
     ]
    },
    {
     "name": "stdout",
     "output_type": "stream",
     "text": [
      "total : 35000\n",
      "illegals : 2750\n",
      "tie_g : 2118\n",
      "win_g : 8119\n",
      "los_g : 24763\n",
      "win_rate : 0.23197142857142858\n",
      "eps : 0.2\n",
      "loss : []\n"
     ]
    },
    {
     "name": "stderr",
     "output_type": "stream",
     "text": [
      " 94%|█████████▍| 37512/40000 [07:20<00:26, 94.41it/s]"
     ]
    },
    {
     "name": "stdout",
     "output_type": "stream",
     "text": [
      "total : 37500\n",
      "illegals : 3028\n",
      "tie_g : 2309\n",
      "win_g : 8630\n",
      "los_g : 26561\n",
      "win_rate : 0.23013333333333333\n",
      "eps : 0.2\n",
      "loss : []\n"
     ]
    },
    {
     "name": "stderr",
     "output_type": "stream",
     "text": [
      "100%|██████████| 40000/40000 [07:48<00:00, 85.38it/s] \n",
      "INFO:root:Complete\n",
      "INFO:root:Save policy as policy.pth!\n"
     ]
    },
    {
     "name": "stdout",
     "output_type": "stream",
     "text": [
      "total : 40000\n",
      "illegals : 3343\n",
      "tie_g : 2500\n",
      "win_g : 9108\n",
      "los_g : 28392\n",
      "win_rate : 0.2277\n",
      "eps : 0.2\n",
      "loss : []\n",
      "<class 'numpy.ndarray'>\n",
      "(160,) (160,)\n"
     ]
    },
    {
     "data": {
      "image/png": "[encoded data removed]",
      "text/plain": [
       "<Figure size 720x288 with 1 Axes>"
      ]
     },
     "metadata": {
      "needs_background": "light"
     },
     "output_type": "display_data"
    }
   ],
   "source": [
    "logging.basicConfig(level=logging.DEBUG)\n",
    "summaries, losses, rewards = fit(\n",
    "    n_episode=40000, \n",
    "    target_update=250, \n",
    "    logging_size=2500, \n",
    "    explore=False, \n",
    "    e_max=0.2,\n",
    "    n_star=10000,\n",
    "    device=DEVICE,\n",
    "    replay=True,\n",
    "    batch_size=32, \n",
    ")\n",
    "_, ax2 = plt.subplots(figsize=(10, 4))\n",
    "# rewards_example = np.linspace(-1, 1, 20000) + np.random.rand(20000)\n",
    "window_avg_plot(axes=ax2, var=rewards)"
   ]
  },
  {
   "cell_type": "code",
   "execution_count": 118,
   "metadata": {},
   "outputs": [],
   "source": [
    "# loss_history = [info['loss'] for info in summary]\n",
    "# res_plot(loss_history, window=1)"
   ]
  },
  {
   "cell_type": "code",
   "execution_count": 62,
   "metadata": {},
   "outputs": [],
   "source": [
    "class DQNPlayer():\n",
    "    def __init__(self, device: torch.device, player='X'):\n",
    "        self.player = player # 'X' or 'O'\n",
    "        self.device = device\n",
    "        self.model = DQN(n_inputs=18, n_outputs=9).to(self.device)\n",
    "        \n",
    "    def load_model(self, path: str):\n",
    "        model_state_dict = torch.load(path, map_location=self.device)\n",
    "        self.model.load_state_dict(model_state_dict)\n",
    "        self.model.eval()\n",
    "\n",
    "    def act(self, grid: np.array):\n",
    "        if self.player == 'X':\n",
    "            switch = False\n",
    "        else:\n",
    "            switch = True\n",
    "        state = grid_to_state(grid, switch=switch, vec=True).to(self.device)\n",
    "        with torch.no_grad():\n",
    "            pred = F.softmax(self.model.forward(state), dim=0).cpu().numpy()\n",
    "            valid_moves = (state.cpu().numpy().reshape(3,3,2).sum(axis=2).reshape(-1) == 0)\n",
    "            move = (valid_moves * pred).argmax()\n",
    "            return int(move)"
   ]
  },
  {
   "cell_type": "code",
   "execution_count": 63,
   "metadata": {},
   "outputs": [
    {
     "name": "stdout",
     "output_type": "stream",
     "text": [
      "Model's state_dict:\n",
      "i2h.weight \t torch.Size([128, 18])\n",
      "i2h.bias \t torch.Size([128])\n",
      "hid.weight \t torch.Size([128, 128])\n",
      "hid.bias \t torch.Size([128])\n",
      "h2o.weight \t torch.Size([9, 128])\n",
      "h2o.bias \t torch.Size([9])\n"
     ]
    }
   ],
   "source": [
    "player_dqn = DQNPlayer(device=DEVICE)\n",
    "player_dqn.load_model('policy.pth')\n",
    "# Print model's state_dict\n",
    "print(\"Model's state_dict:\")\n",
    "for param_tensor in player_dqn.model.state_dict():\n",
    "    print(param_tensor, \"\\t\", player_dqn.model.state_dict()[param_tensor].size())"
   ]
  },
  {
   "cell_type": "code",
   "execution_count": 64,
   "metadata": {},
   "outputs": [
    {
     "name": "stderr",
     "output_type": "stream",
     "text": [
      "100%|██████████| 500/500 [00:01<00:00, 311.76it/s]\n"
     ]
    },
    {
     "name": "stdout",
     "output_type": "stream",
     "text": [
      "# Eval with Opt(0.0)\n",
      "Mopt = -1.0, Draw rate = 0.0\n"
     ]
    },
    {
     "name": "stderr",
     "output_type": "stream",
     "text": [
      "100%|██████████| 500/500 [00:00<00:00, 673.34it/s]"
     ]
    },
    {
     "name": "stdout",
     "output_type": "stream",
     "text": [
      "# Eval with Opt(1.0)\n",
      "Mrand = -0.172, Draw rate = 0.04\n"
     ]
    },
    {
     "name": "stderr",
     "output_type": "stream",
     "text": [
      "\n"
     ]
    }
   ],
   "source": [
    "metric_dict = {'opt': 0.0, 'rand': 1.0}\n",
    "for (mode, epsilon) in metric_dict.items():\n",
    "    # player_opt = OptimalPlayer(epsilon=0.)\n",
    "    player_baseline = OptimalPlayer(epsilon=epsilon)\n",
    "    res_info = eval(player_dqn, player_baseline)\n",
    "    \n",
    "    print(\"# Eval with Opt({})\".format(epsilon))\n",
    "    print('M{} = {}, Draw rate = {}'.format(mode, res_info['metric'], res_info['draw_rate']))"
   ]
  },
  {
   "cell_type": "code",
   "execution_count": 67,
   "metadata": {},
   "outputs": [
    {
     "name": "stdout",
     "output_type": "stream",
     "text": [
      "Model's state_dict:\n",
      "i2h.weight \t torch.Size([128, 18])\n",
      "i2h.bias \t torch.Size([128])\n",
      "hid.weight \t torch.Size([128, 128])\n",
      "hid.bias \t torch.Size([128])\n",
      "h2o.weight \t torch.Size([9, 128])\n",
      "h2o.bias \t torch.Size([9])\n"
     ]
    },
    {
     "name": "stderr",
     "output_type": "stream",
     "text": [
      "100%|██████████| 500/500 [00:01<00:00, 318.00it/s]\n"
     ]
    },
    {
     "name": "stdout",
     "output_type": "stream",
     "text": [
      "# Eval with Opt(0.0)\n",
      "Mopt = -1.0, Draw rate = 0.0\n"
     ]
    },
    {
     "name": "stderr",
     "output_type": "stream",
     "text": [
      "100%|██████████| 500/500 [00:00<00:00, 740.70it/s]"
     ]
    },
    {
     "name": "stdout",
     "output_type": "stream",
     "text": [
      "# Eval with Opt(1.0)\n",
      "Mrand = -0.034, Draw rate = 0.03\n"
     ]
    },
    {
     "name": "stderr",
     "output_type": "stream",
     "text": [
      "\n"
     ]
    }
   ],
   "source": [
    "player_dqn = DQNPlayer(device=DEVICE)\n",
    "player_dqn.load_model('policy.pth')\n",
    "# Print model's state_dict\n",
    "print(\"Model's state_dict:\")\n",
    "for param_tensor in player_dqn.model.state_dict():\n",
    "    print(param_tensor, \"\\t\", player_dqn.model.state_dict()[param_tensor].size())\n",
    "\n",
    "metric_dict = {'opt': 0.0, 'rand': 1.0}\n",
    "for (mode, epsilon) in metric_dict.items():\n",
    "    # player_opt = OptimalPlayer(epsilon=0.)\n",
    "    player_baseline = OptimalPlayer(epsilon=epsilon)\n",
    "    res_info = eval(player_dqn, player_baseline)\n",
    "    \n",
    "    print(\"# Eval with Opt({})\".format(epsilon))\n",
    "    print('M{} = {}, Draw rate = {}'.format(mode, res_info['metric'], res_info['draw_rate']))"
   ]
  },
  {
   "cell_type": "code",
   "execution_count": null,
   "metadata": {},
   "outputs": [],
   "source": [
    "def window_avg_plot(arr: np.array, window_sz: int=250) -> np.array:\n",
    "    \"\"\"\n",
    "    Computes the average over successive windows of an array.\n",
    "    arr must be a 1D array whose length is a multiple of the\n",
    "    window length.\n",
    "    \"\"\"\n",
    "    result = []\n",
    "    for win_start in range(0, arr.shape[0], window_sz):\n",
    "        result.append(np.mean(arr[win_start:win_start + window_sz]))\n",
    "    return result"
   ]
  },
  {
   "cell_type": "markdown",
   "metadata": {},
   "source": [
    "## 2.1 Learning from experts"
   ]
  },
  {
   "cell_type": "markdown",
   "metadata": {},
   "source": [
    "### Q11 Standard training with fixed  $\\epsilon$ "
   ]
  },
  {
   "cell_type": "markdown",
   "metadata": {},
   "source": [
    "### Q12 Training without the replay buffer and with a batch size of 1"
   ]
  },
  {
   "cell_type": "markdown",
   "metadata": {},
   "source": [
    "### Q13 Training with decreasing $\\epsilon$ given different values of $n*$"
   ]
  },
  {
   "cell_type": "markdown",
   "metadata": {},
   "source": [
    "### Q14 Visualizing $M_{opt}$ and $M_{rand}$ over time"
   ]
  },
  {
   "cell_type": "markdown",
   "metadata": {},
   "source": [
    "### Q15 Reporting best results"
   ]
  },
  {
   "cell_type": "markdown",
   "metadata": {},
   "source": [
    "## 2.2 Learning by self-practice"
   ]
  },
  {
   "cell_type": "markdown",
   "metadata": {},
   "source": [
    "### Q16 Training with different fixed  $\\epsilon$"
   ]
  },
  {
   "cell_type": "markdown",
   "metadata": {},
   "source": [
    "### Q17 Training with decreasing  $\\epsilon$ given different values of $n*$"
   ]
  },
  {
   "cell_type": "markdown",
   "metadata": {},
   "source": [
    "### Q18 Reporting best results"
   ]
  },
  {
   "cell_type": "markdown",
   "metadata": {},
   "source": [
    "### Q19 Visualizing Q values"
   ]
  },
  {
   "cell_type": "code",
   "execution_count": null,
   "metadata": {},
   "outputs": [],
   "source": []
  }
 ],
 "metadata": {
  "kernelspec": {
   "display_name": "Python 3",
   "language": "python",
   "name": "python3"
  },
  "language_info": {
   "codemirror_mode": {
    "name": "ipython",
    "version": 3
   },
   "file_extension": ".py",
   "mimetype": "text/x-python",
   "name": "python",
   "nbconvert_exporter": "python",
   "pygments_lexer": "ipython3",
   "version": "3.7.13"
  },
  "toc": {
   "base_numbering": 1,
   "nav_menu": {},
   "number_sections": false,
   "sideBar": true,
   "skip_h1_title": false,
   "title_cell": "Table of Contents",
   "title_sidebar": "Contents",
   "toc_cell": true,
   "toc_position": {
    "height": "calc(100% - 180px)",
    "left": "10px",
    "top": "150px",
    "width": "248.792px"
   },
   "toc_section_display": true,
   "toc_window_display": true
  }
 },
 "nbformat": 4,
 "nbformat_minor": 4
}
